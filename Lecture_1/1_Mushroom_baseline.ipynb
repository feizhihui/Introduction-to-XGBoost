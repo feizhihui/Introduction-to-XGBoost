{
 "cells": [
  {
   "cell_type": "markdown",
   "metadata": {},
   "source": [
    "# 直接调用XGBoost"
   ]
  },
  {
   "cell_type": "markdown",
   "metadata": {},
   "source": [
    "## 导入必要的工具包"
   ]
  },
  {
   "cell_type": "code",
   "execution_count": 1,
   "metadata": {
    "collapsed": false
   },
   "outputs": [],
   "source": [
    "# 导入必要的工具包\n",
    "import xgboost as xgb\n",
    "\n",
    "# 计算分类正确率\n",
    "from sklearn.metrics import accuracy_score\n"
   ]
  },
  {
   "cell_type": "markdown",
   "metadata": {},
   "source": [
    "## 数据读取"
   ]
  },
  {
   "cell_type": "markdown",
   "metadata": {},
   "source": [
    "XGBoost可以加载libsvm格式的文本数据，libsvm的文件格式（稀疏特征）如下：\n",
    "1 101:1.2 102:0.03\n",
    "0 1:2.1 10001:300 10002:400\n",
    "...\n",
    "\n",
    "每一行表示一个样本，第一行的开头的“1”是样本的标签。“101”和“102”为特征索引，'1.2'和'0.03' 为特征的值。\n",
    "在两类分类中，用“1”表示正样本，用“0” 表示负样本。也支持[0,1]表示概率用来做标签，表示为正样本的概率。\n",
    "\n",
    "下面的示例数据需要我们通过一些蘑菇的若干属性判断这个品种是否有毒。\n",
    "UCI数据描述：http://archive.ics.uci.edu/ml/machine-learning-databases/mushroom/ ，\n",
    "每个样本描述了蘑菇的22个属性，比如形状、气味等等（将22维原始特征用加工后变成了126维特征，\n",
    "并存为libsvm格式)，然后给出了这个蘑菇是否可食用。其中6513个样本做训练，1611个样本做测试。\n",
    "\n",
    "XGBoost加载的数据存储在对象DMatrix中\n",
    "XGBoost自定义了一个数据矩阵类DMatrix，优化了存储和运算速度\n",
    "DMatrix文档：http://xgboost.readthedocs.io/en/latest/python/python_api.html"
   ]
  },
  {
   "cell_type": "code",
   "execution_count": 2,
   "metadata": {
    "collapsed": false
   },
   "outputs": [],
   "source": [
    "# read in data，数据在xgboost安装的路径下的demo目录,现在我们将其copy到当前代码下的data目录\n",
    "my_workpath = './data/'\n",
    "dtrain = xgb.DMatrix(my_workpath + 'agaricus.txt.train')\n",
    "dtest = xgb.DMatrix(my_workpath + 'agaricus.txt.test')\n"
   ]
  },
  {
   "cell_type": "markdown",
   "metadata": {},
   "source": [
    "查看数据情况"
   ]
  },
  {
   "cell_type": "code",
   "execution_count": 3,
   "metadata": {
    "collapsed": false
   },
   "outputs": [
    {
     "data": {
      "text/plain": [
       "127L"
      ]
     },
     "execution_count": 3,
     "metadata": {},
     "output_type": "execute_result"
    }
   ],
   "source": [
    "dtrain.num_col()"
   ]
  },
  {
   "cell_type": "code",
   "execution_count": 4,
   "metadata": {
    "collapsed": false
   },
   "outputs": [
    {
     "data": {
      "text/plain": [
       "6513L"
      ]
     },
     "execution_count": 4,
     "metadata": {},
     "output_type": "execute_result"
    }
   ],
   "source": [
    "dtrain.num_row()"
   ]
  },
  {
   "cell_type": "code",
   "execution_count": 5,
   "metadata": {
    "collapsed": false
   },
   "outputs": [
    {
     "data": {
      "text/plain": [
       "1611L"
      ]
     },
     "execution_count": 5,
     "metadata": {},
     "output_type": "execute_result"
    }
   ],
   "source": [
    "dtest.num_row()"
   ]
  },
  {
   "cell_type": "markdown",
   "metadata": {},
   "source": [
    "## 训练参数设置"
   ]
  },
  {
   "cell_type": "markdown",
   "metadata": {},
   "source": [
    "max_depth： 树的最大深度。缺省值为6，取值范围为：[1,∞]\n",
    "eta：为了防止过拟合，更新过程中用到的收缩步长。在每次提升计算之后，算法会直接获得新特征的权重。 \n",
    "eta通过缩减特征的权重使提升计算过程更加保守。缺省值为0.3，取值范围为：[0,1]\n",
    "silent：取0时表示打印出运行时信息，取1时表示以缄默方式运行，不打印运行时信息。缺省值为0\n",
    "objective： 定义学习任务及相应的学习目标，“binary:logistic” 表示二分类的逻辑回归问题，输出为概率。\n",
    "\n",
    "其他参数取默认值。"
   ]
  },
  {
   "cell_type": "code",
   "execution_count": 6,
   "metadata": {
    "collapsed": false
   },
   "outputs": [
    {
     "name": "stdout",
     "output_type": "stream",
     "text": [
      "{'objective': 'binary:logistic', 'eta': 1, 'max_depth': 2, 'silent': 0}\n"
     ]
    }
   ],
   "source": [
    "# specify parameters via map\n",
    "param = {'max_depth':2, 'eta':1, 'silent':0, 'objective':'binary:logistic' }\n",
    "print param"
   ]
  },
  {
   "cell_type": "markdown",
   "metadata": {},
   "source": [
    "## 训练模型"
   ]
  },
  {
   "cell_type": "markdown",
   "metadata": {},
   "source": [
    "有了参数列表和数据就可以训练模型了 "
   ]
  },
  {
   "cell_type": "code",
   "execution_count": 7,
   "metadata": {
    "collapsed": false
   },
   "outputs": [
    {
     "name": "stdout",
     "output_type": "stream",
     "text": [
      "0.022666\n"
     ]
    }
   ],
   "source": [
    "# 设置boosting迭代计算次数\n",
    "num_round = 2\n",
    "\n",
    "import time\n",
    "starttime = time.clock()\n",
    "\n",
    "bst = xgb.train(param, dtrain, num_round)\n",
    "\n",
    "endtime = time.clock()\n",
    "print (endtime - starttime)"
   ]
  },
  {
   "cell_type": "markdown",
   "metadata": {},
   "source": [
    "查看模型在训练集上的分类性能"
   ]
  },
  {
   "cell_type": "markdown",
   "metadata": {},
   "source": [
    "XGBoost预测的输出是概率。这里蘑菇分类是一个二类分类问题，输出值是样本为第一类的概率。\n",
    "我们需要将概率值转换为0或1。"
   ]
  },
  {
   "cell_type": "code",
   "execution_count": 8,
   "metadata": {
    "collapsed": false
   },
   "outputs": [
    {
     "name": "stdout",
     "output_type": "stream",
     "text": [
      "Train Accuary: 97.77%\n"
     ]
    }
   ],
   "source": [
    "train_preds = bst.predict(dtrain)\n",
    "train_predictions = [round(value) for value in train_preds]\n",
    "y_train = dtrain.get_label()\n",
    "train_accuracy = accuracy_score(y_train, train_predictions)\n",
    "print (\"Train Accuary: %.2f%%\" % (train_accuracy * 100.0))"
   ]
  },
  {
   "cell_type": "markdown",
   "metadata": {},
   "source": [
    "## 测试"
   ]
  },
  {
   "cell_type": "markdown",
   "metadata": {},
   "source": [
    "模型训练好后，可以用训练好的模型对测试数据进行预测"
   ]
  },
  {
   "cell_type": "code",
   "execution_count": 9,
   "metadata": {
    "collapsed": true
   },
   "outputs": [],
   "source": [
    "# make prediction\n",
    "preds = bst.predict(dtest)"
   ]
  },
  {
   "cell_type": "markdown",
   "metadata": {},
   "source": [
    "检查模型在测试集上的正确率\n",
    "XGBoost预测的输出是概率，输出值是样本为第一类的概率。我们需要将概率值转换为0或1。"
   ]
  },
  {
   "cell_type": "code",
   "execution_count": 10,
   "metadata": {
    "collapsed": true
   },
   "outputs": [],
   "source": [
    "predictions = [round(value) for value in preds]"
   ]
  },
  {
   "cell_type": "code",
   "execution_count": 11,
   "metadata": {
    "collapsed": false
   },
   "outputs": [
    {
     "name": "stdout",
     "output_type": "stream",
     "text": [
      "Test Accuracy: 97.83%\n"
     ]
    }
   ],
   "source": [
    "y_test = dtest.get_label()\n",
    "test_accuracy = accuracy_score(y_test, predictions)\n",
    "print(\"Test Accuracy: %.2f%%\" % (test_accuracy * 100.0))"
   ]
  },
  {
   "cell_type": "markdown",
   "metadata": {},
   "source": [
    "## 模型可视化"
   ]
  },
  {
   "cell_type": "markdown",
   "metadata": {},
   "source": [
    "调用XGBoost工具包中的plot_tree，在显示\n",
    "要可视化模型需要安装graphviz软件包（请见预备0）\n",
    "\n",
    "plot_tree（）的三个参数：\n",
    "1. 模型\n",
    "2. 树的索引，从0开始\n",
    "3. 显示方向，缺省为竖直，‘LR'是水平方向"
   ]
  },
  {
   "cell_type": "code",
   "execution_count": null,
   "metadata": {
    "collapsed": true
   },
   "outputs": [],
   "source": [
    "from matplotlib import pyplot\n",
    "import graphviz\n",
    "xgb.plot_tree(bst, num_trees=0, rankdir= 'LR' )\n",
    "pyplot.show()\n",
    "\n",
    "#xgb.plot_tree(bst,num_trees=1, rankdir= 'LR' )\n",
    "#pyplot.show()\n",
    "#xgb.to_graphviz(bst,num_trees=0)\n",
    "#xgb.to_graphviz(bst,num_trees=1)"
   ]
  }
 ],
 "metadata": {
  "kernelspec": {
   "display_name": "Python 2",
   "language": "python",
   "name": "python2"
  },
  "language_info": {
   "codemirror_mode": {
    "name": "ipython",
    "version": 2
   },
   "file_extension": ".py",
   "mimetype": "text/x-python",
   "name": "python",
   "nbconvert_exporter": "python",
   "pygments_lexer": "ipython2",
   "version": "2.7.13"
  }
 },
 "nbformat": 4,
 "nbformat_minor": 2
}

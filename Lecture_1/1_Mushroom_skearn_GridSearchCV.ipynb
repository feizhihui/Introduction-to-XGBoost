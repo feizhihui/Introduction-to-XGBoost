{
 "cells": [
  {
   "cell_type": "markdown",
   "metadata": {},
   "source": [
    "# XGBoost快速入门——与scikit-learn一起使用-GridSearchcv"
   ]
  },
  {
   "cell_type": "code",
   "execution_count": 1,
   "metadata": {
    "collapsed": false
   },
   "outputs": [
    {
     "name": "stderr",
     "output_type": "stream",
     "text": [
      "/Applications/anaconda/lib/python2.7/site-packages/sklearn/cross_validation.py:44: DeprecationWarning: This module was deprecated in version 0.18 in favor of the model_selection module into which all the refactored classes and functions are moved. Also note that the interface of the new CV iterators are different from that of this module. This module will be removed in 0.20.\n",
      "  \"This module will be removed in 0.20.\", DeprecationWarning)\n",
      "/Applications/anaconda/lib/python2.7/site-packages/sklearn/grid_search.py:43: DeprecationWarning: This module was deprecated in version 0.18 in favor of the model_selection module into which all the refactored classes and functions are moved. This module will be removed in 0.20.\n",
      "  DeprecationWarning)\n"
     ]
    }
   ],
   "source": [
    "# 运行 xgboost安装包中的示例程序\n",
    "from xgboost import XGBClassifier\n",
    "\n",
    "# 加载LibSVM格式数据模块\n",
    "from sklearn.datasets import load_svmlight_file\n",
    "\n",
    "from sklearn.grid_search import GridSearchCV\n",
    "\n",
    "from sklearn.metrics import accuracy_score\n",
    "\n",
    "from matplotlib import pyplot"
   ]
  },
  {
   "cell_type": "markdown",
   "metadata": {},
   "source": [
    "## 数据读取"
   ]
  },
  {
   "cell_type": "markdown",
   "metadata": {},
   "source": [
    "scikit-learn支持多种格式的数据，包括LibSVM格式数据\n",
    "XGBoost可以加载libsvm格式的文本数据，libsvm的文件格式（稀疏特征）如下：\n",
    "1 101:1.2 102:0.03\n",
    "0 1:2.1 10001:300 10002:400\n",
    "...\n",
    "\n",
    "每一行表示一个样本，第一行的开头的“1”是样本的标签。“101”和“102”为特征索引，'1.2'和'0.03' 为特征的值。\n",
    "在两类分类中，用“1”表示正样本，用“0” 表示负样本。也支持[0,1]表示概率用来做标签，表示为正样本的概率。\n",
    "\n",
    "下面的示例数据需要我们通过一些蘑菇的若干属性判断这个品种是否有毒。\n",
    "UCI数据描述：http://archive.ics.uci.edu/ml/machine-learning-databases/mushroom/ ，\n",
    "每个样本描述了蘑菇的22个属性，比如形状、气味等等(加工成libsvm格式后变成了126维特征)，\n",
    "然后给出了这个蘑菇是否可食用。其中6513个样本做训练，1611个样本做测试。\n",
    "\n",
    "XGBoost加载的数据存储在对象DMatrix中\n",
    "XGBoost自定义了一个数据矩阵类DMatrix，优化了存储和运算速度\n",
    "DMatrix文档：http://xgboost.readthedocs.io/en/latest/python/python_api.html"
   ]
  },
  {
   "cell_type": "code",
   "execution_count": 2,
   "metadata": {
    "collapsed": false
   },
   "outputs": [],
   "source": [
    "# read in data，数据在xgboost安装的路径下的demo目录,现在copy到代码目录下的data目录\n",
    "my_workpath = './data/'\n",
    "X_train,y_train = load_svmlight_file(my_workpath + 'agaricus.txt.train')\n",
    "X_test,y_test = load_svmlight_file(my_workpath + 'agaricus.txt.test')"
   ]
  },
  {
   "cell_type": "markdown",
   "metadata": {},
   "source": [
    "## 设置模型训练参数\n",
    "暂时没用"
   ]
  },
  {
   "cell_type": "code",
   "execution_count": 3,
   "metadata": {
    "collapsed": false
   },
   "outputs": [
    {
     "name": "stdout",
     "output_type": "stream",
     "text": [
      "{'objective': 'binary:logistic', 'eta': 0.1, 'max_depth': 2, 'silent': 0}\n"
     ]
    }
   ],
   "source": [
    "# specify parameters via map\n",
    "params = {'max_depth':2, 'eta':0.1, 'silent':0, 'objective':'binary:logistic' }\n",
    "print params"
   ]
  },
  {
   "cell_type": "markdown",
   "metadata": {},
   "source": [
    "## 构造模型"
   ]
  },
  {
   "cell_type": "code",
   "execution_count": 4,
   "metadata": {
    "collapsed": false
   },
   "outputs": [],
   "source": [
    "#bst = XGBClassifier(param)\n",
    "bst =XGBClassifier(max_depth=2, learning_rate=0.1, silent=True, objective='binary:logistic')"
   ]
  },
  {
   "cell_type": "markdown",
   "metadata": {},
   "source": [
    "## 交叉验证\n",
    "会比较慢:("
   ]
  },
  {
   "cell_type": "code",
   "execution_count": 7,
   "metadata": {
    "collapsed": false,
    "scrolled": true
   },
   "outputs": [
    {
     "data": {
      "text/plain": [
       "([mean: 0.90542, std: 0.08996, params: {'n_estimators': 1},\n",
       "  mean: 0.94749, std: 0.07458, params: {'n_estimators': 2},\n",
       "  mean: 0.90542, std: 0.08996, params: {'n_estimators': 3},\n",
       "  mean: 0.94749, std: 0.07458, params: {'n_estimators': 4},\n",
       "  mean: 0.90573, std: 0.09028, params: {'n_estimators': 5},\n",
       "  mean: 0.94718, std: 0.07436, params: {'n_estimators': 6},\n",
       "  mean: 0.90542, std: 0.08996, params: {'n_estimators': 7},\n",
       "  mean: 0.94242, std: 0.07331, params: {'n_estimators': 8},\n",
       "  mean: 0.94473, std: 0.07739, params: {'n_estimators': 9},\n",
       "  mean: 0.97482, std: 0.02235, params: {'n_estimators': 10},\n",
       "  mean: 0.94887, std: 0.07621, params: {'n_estimators': 11},\n",
       "  mean: 0.97850, std: 0.02387, params: {'n_estimators': 12},\n",
       "  mean: 0.97298, std: 0.03186, params: {'n_estimators': 13},\n",
       "  mean: 0.97850, std: 0.02387, params: {'n_estimators': 14},\n",
       "  mean: 0.97298, std: 0.03186, params: {'n_estimators': 15},\n",
       "  mean: 0.97850, std: 0.02387, params: {'n_estimators': 16},\n",
       "  mean: 0.97850, std: 0.02387, params: {'n_estimators': 17},\n",
       "  mean: 0.97850, std: 0.02387, params: {'n_estimators': 18},\n",
       "  mean: 0.97850, std: 0.02387, params: {'n_estimators': 19},\n",
       "  mean: 0.97850, std: 0.02387, params: {'n_estimators': 20},\n",
       "  mean: 0.97850, std: 0.02387, params: {'n_estimators': 21},\n",
       "  mean: 0.97850, std: 0.02387, params: {'n_estimators': 22},\n",
       "  mean: 0.97850, std: 0.02387, params: {'n_estimators': 23},\n",
       "  mean: 0.97850, std: 0.02387, params: {'n_estimators': 24},\n",
       "  mean: 0.97850, std: 0.02387, params: {'n_estimators': 25},\n",
       "  mean: 0.97804, std: 0.02365, params: {'n_estimators': 26},\n",
       "  mean: 0.97774, std: 0.02337, params: {'n_estimators': 27},\n",
       "  mean: 0.97835, std: 0.02383, params: {'n_estimators': 28},\n",
       "  mean: 0.98296, std: 0.01963, params: {'n_estimators': 29},\n",
       "  mean: 0.98419, std: 0.02040, params: {'n_estimators': 30},\n",
       "  mean: 0.98342, std: 0.01988, params: {'n_estimators': 31},\n",
       "  mean: 0.98372, std: 0.02008, params: {'n_estimators': 32},\n",
       "  mean: 0.98419, std: 0.02040, params: {'n_estimators': 33},\n",
       "  mean: 0.98419, std: 0.02040, params: {'n_estimators': 34},\n",
       "  mean: 0.98419, std: 0.02040, params: {'n_estimators': 35},\n",
       "  mean: 0.98419, std: 0.02040, params: {'n_estimators': 36},\n",
       "  mean: 0.98419, std: 0.02040, params: {'n_estimators': 37},\n",
       "  mean: 0.98419, std: 0.02040, params: {'n_estimators': 38},\n",
       "  mean: 0.98419, std: 0.02040, params: {'n_estimators': 39},\n",
       "  mean: 0.98419, std: 0.02040, params: {'n_estimators': 40},\n",
       "  mean: 0.98419, std: 0.02040, params: {'n_estimators': 41},\n",
       "  mean: 0.98419, std: 0.02040, params: {'n_estimators': 42},\n",
       "  mean: 0.98419, std: 0.02040, params: {'n_estimators': 43},\n",
       "  mean: 0.98419, std: 0.02040, params: {'n_estimators': 44},\n",
       "  mean: 0.98419, std: 0.02040, params: {'n_estimators': 45},\n",
       "  mean: 0.98419, std: 0.02040, params: {'n_estimators': 46},\n",
       "  mean: 0.98419, std: 0.02040, params: {'n_estimators': 47},\n",
       "  mean: 0.98419, std: 0.02040, params: {'n_estimators': 48},\n",
       "  mean: 0.98419, std: 0.02040, params: {'n_estimators': 49},\n",
       "  mean: 0.98419, std: 0.02040, params: {'n_estimators': 50}],\n",
       " {'n_estimators': 30},\n",
       " 0.9841854752034392)"
      ]
     },
     "execution_count": 7,
     "metadata": {},
     "output_type": "execute_result"
    }
   ],
   "source": [
    "# 设置boosting迭代计算次数\n",
    "param_test = {\n",
    " 'n_estimators': range(1, 51, 1)\n",
    "}\n",
    "clf = GridSearchCV(estimator = bst, param_grid = param_test, scoring='accuracy', cv=5)\n",
    "clf.fit(X_train, y_train)\n",
    "clf.grid_scores_, clf.best_params_, clf.best_score_"
   ]
  },
  {
   "cell_type": "markdown",
   "metadata": {},
   "source": [
    "# 测试"
   ]
  },
  {
   "cell_type": "code",
   "execution_count": 8,
   "metadata": {
    "collapsed": false
   },
   "outputs": [
    {
     "name": "stdout",
     "output_type": "stream",
     "text": [
      "Test Accuracy of gridsearchcv: 97.27%\n"
     ]
    }
   ],
   "source": [
    "#make prediction\n",
    "preds = clf.predict(X_test)\n",
    "predictions = [round(value) for value in preds]\n",
    "\n",
    "test_accuracy = accuracy_score(y_test, predictions)\n",
    "print(\"Test Accuracy of gridsearchcv: %.2f%%\" % (test_accuracy * 100.0))"
   ]
  }
 ],
 "metadata": {
  "kernelspec": {
   "display_name": "Python 2",
   "language": "python",
   "name": "python2"
  },
  "language_info": {
   "codemirror_mode": {
    "name": "ipython",
    "version": 2
   },
   "file_extension": ".py",
   "mimetype": "text/x-python",
   "name": "python",
   "nbconvert_exporter": "python",
   "pygments_lexer": "ipython2",
   "version": "2.7.13"
  }
 },
 "nbformat": 4,
 "nbformat_minor": 2
}

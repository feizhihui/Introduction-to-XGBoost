{
 "cells": [
  {
   "cell_type": "markdown",
   "metadata": {
    "deletable": true,
    "editable": true
   },
   "source": [
    "# XGBoost快速入门——与scikit-learn一起使用-cv"
   ]
  },
  {
   "cell_type": "code",
   "execution_count": 1,
   "metadata": {
    "collapsed": false,
    "deletable": true,
    "editable": true
   },
   "outputs": [],
   "source": [
    "# 运行 xgboost安装包中的示例程序\n",
    "from xgboost import XGBClassifier\n",
    "\n",
    "# 加载LibSVM格式数据模块\n",
    "from sklearn.datasets import load_svmlight_file\n",
    "\n",
    "#from sklearn.model_selection import KFold\n",
    "from sklearn.model_selection import StratifiedKFold\n",
    "from sklearn.model_selection import cross_val_score\n",
    "\n",
    "from sklearn.metrics import accuracy_score\n",
    "\n",
    "from matplotlib import pyplot"
   ]
  },
  {
   "cell_type": "markdown",
   "metadata": {
    "deletable": true,
    "editable": true
   },
   "source": [
    "## 数据读取"
   ]
  },
  {
   "cell_type": "markdown",
   "metadata": {
    "deletable": true,
    "editable": true
   },
   "source": [
    "scikit-learn支持多种格式的数据，包括LibSVM格式数据\n",
    "XGBoost可以加载libsvm格式的文本数据，libsvm的文件格式（稀疏特征）如下：\n",
    "1 101:1.2 102:0.03\n",
    "0 1:2.1 10001:300 10002:400\n",
    "...\n",
    "\n",
    "每一行表示一个样本，第一行的开头的“1”是样本的标签。“101”和“102”为特征索引，'1.2'和'0.03' 为特征的值。\n",
    "在两类分类中，用“1”表示正样本，用“0” 表示负样本。也支持[0,1]表示概率用来做标签，表示为正样本的概率。\n",
    "\n",
    "下面的示例数据需要我们通过一些蘑菇的若干属性判断这个品种是否有毒。\n",
    "UCI数据描述：http://archive.ics.uci.edu/ml/machine-learning-databases/mushroom/ ，\n",
    "每个样本描述了蘑菇的22个属性，比如形状、气味等等(加工成libsvm格式后变成了126维特征)，\n",
    "然后给出了这个蘑菇是否可食用。其中6513个样本做训练，1611个样本做测试。\n",
    "\n",
    "XGBoost加载的数据存储在对象DMatrix中\n",
    "XGBoost自定义了一个数据矩阵类DMatrix，优化了存储和运算速度\n",
    "DMatrix文档：http://xgboost.readthedocs.io/en/latest/python/python_api.html"
   ]
  },
  {
   "cell_type": "code",
   "execution_count": 2,
   "metadata": {
    "collapsed": false,
    "deletable": true,
    "editable": true
   },
   "outputs": [],
   "source": [
    "# read in data，数据在xgboost安装的路径下的demo目录,现在copy到代码目录下的data目录\n",
    "my_workpath = './data/'\n",
    "X_train,y_train = load_svmlight_file(my_workpath + 'agaricus.txt.train')\n",
    "X_test,y_test = load_svmlight_file(my_workpath + 'agaricus.txt.test')"
   ]
  },
  {
   "cell_type": "markdown",
   "metadata": {
    "deletable": true,
    "editable": true
   },
   "source": [
    "## 设置模型训练参数\n",
    "暂时没用"
   ]
  },
  {
   "cell_type": "code",
   "execution_count": 3,
   "metadata": {
    "collapsed": false,
    "deletable": true,
    "editable": true
   },
   "outputs": [
    {
     "name": "stdout",
     "output_type": "stream",
     "text": [
      "{'objective': 'binary:logistic', 'eta': 1, 'max_depth': 2, 'silent': 0}\n"
     ]
    }
   ],
   "source": [
    "# specify parameters via map\n",
    "param = {'max_depth':2, 'eta':1, 'silent':0, 'objective':'binary:logistic' }\n",
    "print param"
   ]
  },
  {
   "cell_type": "markdown",
   "metadata": {
    "deletable": true,
    "editable": true
   },
   "source": [
    "## 构造模型"
   ]
  },
  {
   "cell_type": "code",
   "execution_count": 4,
   "metadata": {
    "collapsed": false,
    "deletable": true,
    "editable": true
   },
   "outputs": [],
   "source": [
    "# 设置boosting迭代计算次数\n",
    "num_round = 2\n",
    "#num_round = range(1, 101)\n",
    "#param_grid = dict(n_estimators=num_round)\n",
    "\n",
    "#bst = XGBClassifier(param)\n",
    "bst =XGBClassifier(max_depth=2, learning_rate=0.1,n_estimators=num_round, \n",
    "                   silent=True, objective='binary:logistic')"
   ]
  },
  {
   "cell_type": "markdown",
   "metadata": {
    "deletable": true,
    "editable": true
   },
   "source": [
    "## 交叉验证\n",
    "会比较慢:("
   ]
  },
  {
   "cell_type": "code",
   "execution_count": 5,
   "metadata": {
    "collapsed": false,
    "deletable": true,
    "editable": true
   },
   "outputs": [
    {
     "name": "stdout",
     "output_type": "stream",
     "text": [
      "[ 0.69478528  0.85276074  0.95398773  0.97235023  0.96006144  0.98771121\n",
      "  1.          1.          0.96927803  0.97695853]\n",
      "CV Accuracy: 93.68% (9.00%)\n"
     ]
    }
   ],
   "source": [
    "# stratified k-fold cross validation evaluation of xgboost model\n",
    "#kfold = KFold(n_splits=10, random_state=7)\n",
    "kfold = StratifiedKFold(n_splits=10, random_state=7)\n",
    "#fit_params = {'eval_metric':\"logloss\"}\n",
    "#results = cross_val_score(bst, X_train, y_train, cv=kfold, fit_params)\n",
    "results = cross_val_score(bst, X_train, y_train, cv=kfold)\n",
    "print results\n",
    "print(\"CV Accuracy: %.2f%% (%.2f%%)\" % (results.mean()*100, results.std()*100))"
   ]
  }
 ],
 "metadata": {
  "kernelspec": {
   "display_name": "Python 2",
   "language": "python",
   "name": "python2"
  },
  "language_info": {
   "codemirror_mode": {
    "name": "ipython",
    "version": 2
   },
   "file_extension": ".py",
   "mimetype": "text/x-python",
   "name": "python",
   "nbconvert_exporter": "python",
   "pygments_lexer": "ipython2",
   "version": "2.7.11"
  }
 },
 "nbformat": 4,
 "nbformat_minor": 2
}

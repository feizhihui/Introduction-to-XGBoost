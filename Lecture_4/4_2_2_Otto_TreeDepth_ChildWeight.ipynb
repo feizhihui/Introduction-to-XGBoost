{
 "cells": [
  {
   "cell_type": "markdown",
   "metadata": {},
   "source": [
    "# XGBoost Parameter Tuning for Otto Dataset"
   ]
  },
  {
   "cell_type": "markdown",
   "metadata": {},
   "source": [
    "我们以Kaggle 2015年举办的Otto Group Product Classification Challenge竞赛数据为例，进行XGBoost参数调优探索。\n",
    "\n",
    "竞赛官网：https://www.kaggle.com/c/otto-group-product-classification-challenge/data"
   ]
  },
  {
   "cell_type": "markdown",
   "metadata": {},
   "source": [
    "# 第二步：调整树的参数：max_depth & min_child_weight\n",
    "(粗调，参数的步长为2；下一步是在粗调最佳参数周围，将步长降为1，进行精细调整)"
   ]
  },
  {
   "cell_type": "markdown",
   "metadata": {},
   "source": [
    "首先 import 必要的模块"
   ]
  },
  {
   "cell_type": "code",
   "execution_count": 1,
   "metadata": {
    "collapsed": true
   },
   "outputs": [],
   "source": [
    "from xgboost import XGBClassifier\n",
    "import xgboost as xgb\n",
    "\n",
    "import pandas as pd \n",
    "import numpy as np\n",
    "\n",
    "from sklearn.model_selection import GridSearchCV\n",
    "from sklearn.model_selection import StratifiedKFold\n",
    "\n",
    "from sklearn.metrics import log_loss\n",
    "\n",
    "from matplotlib import pyplot\n",
    "import seaborn as sns\n",
    "%matplotlib inline"
   ]
  },
  {
   "cell_type": "markdown",
   "metadata": {},
   "source": [
    "## 读取数据"
   ]
  },
  {
   "cell_type": "code",
   "execution_count": 2,
   "metadata": {
    "collapsed": false,
    "scrolled": true
   },
   "outputs": [],
   "source": [
    "# path to where the data lies\n",
    "dpath = './data/'\n",
    "train = pd.read_csv(dpath +\"Otto_train.csv\")\n",
    "#train.head()"
   ]
  },
  {
   "cell_type": "markdown",
   "metadata": {},
   "source": [
    "## Variable Identification"
   ]
  },
  {
   "cell_type": "markdown",
   "metadata": {},
   "source": [
    "选择该数据集是因为的数据特征单一，我们可以在特征工程方面少做些工作，集中精力放在参数调优上"
   ]
  },
  {
   "cell_type": "markdown",
   "metadata": {},
   "source": [
    "## Target 分布，看看各类样本分布是否均衡"
   ]
  },
  {
   "cell_type": "code",
   "execution_count": 3,
   "metadata": {
    "collapsed": false,
    "scrolled": false
   },
   "outputs": [],
   "source": [
    "#sns.countplot(train.target);\n",
    "#pyplot.xlabel('target');\n",
    "#pyplot.ylabel('Number of occurrences');"
   ]
  },
  {
   "cell_type": "markdown",
   "metadata": {},
   "source": [
    "每类样本分布不是很均匀，所以交叉验证时也考虑各类样本按比例抽取"
   ]
  },
  {
   "cell_type": "code",
   "execution_count": 3,
   "metadata": {
    "collapsed": false
   },
   "outputs": [],
   "source": [
    "# drop ids and get labels\n",
    "y_train = train['target']\n",
    "y_train = y_train.map(lambda s: s[6:])\n",
    "y_train = y_train.map(lambda s: int(s)-1)\n",
    "\n",
    "train = train.drop([\"id\", \"target\"], axis=1)\n",
    "X_train = np.array(train)"
   ]
  },
  {
   "cell_type": "markdown",
   "metadata": {},
   "source": [
    "各类样本不均衡，交叉验证是采用StratifiedKFold，在每折采样时各类样本按比例采样"
   ]
  },
  {
   "cell_type": "code",
   "execution_count": 4,
   "metadata": {
    "collapsed": true
   },
   "outputs": [],
   "source": [
    "# prepare cross validation\n",
    "kfold = StratifiedKFold(n_splits=5, shuffle=True, random_state=3)"
   ]
  },
  {
   "cell_type": "markdown",
   "metadata": {},
   "source": [
    "第一轮参数调整得到的n_estimators最优值（699），其余参数继续默认值"
   ]
  },
  {
   "cell_type": "markdown",
   "metadata": {},
   "source": [
    "用交叉验证评价模型性能时，用scoring参数定义评价指标。评价指标是越高越好，因此用一些损失函数当评价指标时，需要再加负号，如neg_log_loss，neg_mean_squared_error 详见sklearn文档：http://scikit-learn.org/stable/modules/model_evaluation.html#log-loss"
   ]
  },
  {
   "cell_type": "code",
   "execution_count": 5,
   "metadata": {
    "collapsed": false,
    "scrolled": true
   },
   "outputs": [
    {
     "data": {
      "text/plain": [
       "{'max_depth': [6, 7, 8], 'min_child_weight': [4, 5, 6]}"
      ]
     },
     "execution_count": 5,
     "metadata": {},
     "output_type": "execute_result"
    }
   ],
   "source": [
    "#max_depth 建议3-10， min_child_weight=1／sqrt(ratio_rare_event) =5.5\n",
    "max_depth = [6,7,8]\n",
    "min_child_weight = [4,5,6]\n",
    "param_test2_2 = dict(max_depth=max_depth, min_child_weight=min_child_weight)\n",
    "param_test2_2"
   ]
  },
  {
   "cell_type": "code",
   "execution_count": 6,
   "metadata": {
    "collapsed": false,
    "scrolled": true
   },
   "outputs": [
    {
     "name": "stderr",
     "output_type": "stream",
     "text": [
      "/Applications/anaconda/lib/python2.7/site-packages/sklearn/model_selection/_search.py:667: DeprecationWarning: The grid_scores_ attribute was deprecated in version 0.18 in favor of the more elaborate cv_results_ attribute. The grid_scores_ attribute will not be available from 0.20\n",
      "  DeprecationWarning)\n"
     ]
    },
    {
     "data": {
      "text/plain": [
       "([mean: -1.84136, std: 0.00769, params: {'max_depth': 6, 'min_child_weight': 4},\n",
       "  mean: -1.84238, std: 0.00749, params: {'max_depth': 6, 'min_child_weight': 5},\n",
       "  mean: -1.84323, std: 0.00751, params: {'max_depth': 6, 'min_child_weight': 6},\n",
       "  mean: -1.81985, std: 0.00637, params: {'max_depth': 7, 'min_child_weight': 4},\n",
       "  mean: -1.82191, std: 0.00701, params: {'max_depth': 7, 'min_child_weight': 5},\n",
       "  mean: -1.82330, std: 0.00645, params: {'max_depth': 7, 'min_child_weight': 6},\n",
       "  mean: -1.80834, std: 0.00212, params: {'max_depth': 8, 'min_child_weight': 4},\n",
       "  mean: -1.80986, std: 0.00319, params: {'max_depth': 8, 'min_child_weight': 5},\n",
       "  mean: -1.81517, std: 0.00701, params: {'max_depth': 8, 'min_child_weight': 6}],\n",
       " {'max_depth': 8, 'min_child_weight': 4},\n",
       " -1.8083446011360949)"
      ]
     },
     "execution_count": 6,
     "metadata": {},
     "output_type": "execute_result"
    }
   ],
   "source": [
    "xgb2_2 = XGBClassifier(\n",
    "        learning_rate =0.1,\n",
    "        n_estimators=699,  #第一轮参数调整得到的n_estimators最优值\n",
    "        max_depth=5,\n",
    "        min_child_weight=1,\n",
    "        gamma=0,\n",
    "        subsample=0.3,\n",
    "        colsample_bytree=0.8,\n",
    "        colsample_bylevel = 0.7,\n",
    "        objective= 'multi:softprob',\n",
    "        seed=3)\n",
    "\n",
    "\n",
    "gsearch2_2 = GridSearchCV(xgb2_2, param_grid = param_test2_2, scoring='neg_log_loss',n_jobs=-1, cv=kfold)\n",
    "gsearch2_2.fit(X_train , y_train)\n",
    "\n",
    "gsearch2_2.grid_scores_, gsearch2_2.best_params_,     gsearch2_2.best_score_"
   ]
  },
  {
   "cell_type": "code",
   "execution_count": 7,
   "metadata": {
    "collapsed": false,
    "scrolled": true
   },
   "outputs": [
    {
     "data": {
      "text/plain": [
       "{'mean_fit_time': array([ 3.57938142,  3.93679004,  4.06462259,  4.39477878,  4.70106964,\n",
       "         4.42871919,  4.62651081,  4.8598866 ,  3.962538  ]),\n",
       " 'mean_score_time': array([ 0.16824541,  0.14223194,  0.13564043,  0.16858616,  0.1231173 ,\n",
       "         0.14664741,  0.16257501,  0.12763515,  0.06810622]),\n",
       " 'mean_test_score': array([-1.84136204, -1.84237886, -1.84322873, -1.8198477 , -1.82191243,\n",
       "        -1.82329889, -1.8083446 , -1.80985913, -1.81516758]),\n",
       " 'mean_train_score': array([-1.83776295, -1.83888738, -1.8399246 , -1.81507921, -1.81775794,\n",
       "        -1.81912688, -1.80270276, -1.80492046, -1.81054239]),\n",
       " 'param_max_depth': masked_array(data = [6 6 6 7 7 7 8 8 8],\n",
       "              mask = [False False False False False False False False False],\n",
       "        fill_value = ?),\n",
       " 'param_min_child_weight': masked_array(data = [4 5 6 4 5 6 4 5 6],\n",
       "              mask = [False False False False False False False False False],\n",
       "        fill_value = ?),\n",
       " 'params': ({'max_depth': 6, 'min_child_weight': 4},\n",
       "  {'max_depth': 6, 'min_child_weight': 5},\n",
       "  {'max_depth': 6, 'min_child_weight': 6},\n",
       "  {'max_depth': 7, 'min_child_weight': 4},\n",
       "  {'max_depth': 7, 'min_child_weight': 5},\n",
       "  {'max_depth': 7, 'min_child_weight': 6},\n",
       "  {'max_depth': 8, 'min_child_weight': 4},\n",
       "  {'max_depth': 8, 'min_child_weight': 5},\n",
       "  {'max_depth': 8, 'min_child_weight': 6}),\n",
       " 'rank_test_score': array([7, 8, 9, 4, 5, 6, 1, 2, 3], dtype=int32),\n",
       " 'split0_test_score': array([-1.84528365, -1.8458723 , -1.84665005, -1.81306277, -1.81534182,\n",
       "        -1.81591901, -1.80891935, -1.81205914, -1.81280519]),\n",
       " 'split0_train_score': array([-1.84262624, -1.84326086, -1.84434615, -1.80799376, -1.80999227,\n",
       "        -1.811352  , -1.80249619, -1.80698744, -1.80740214]),\n",
       " 'split1_test_score': array([-1.82903566, -1.83044542, -1.83121874, -1.82540792, -1.82619675,\n",
       "        -1.8269378 , -1.80908756, -1.81073743, -1.81317747]),\n",
       " 'split1_train_score': array([-1.82649585, -1.8281045 , -1.82934103, -1.82200446, -1.82399422,\n",
       "        -1.82487677, -1.80557458, -1.80766007, -1.81054812]),\n",
       " 'split2_test_score': array([-1.84929565, -1.85003318, -1.85120053, -1.81659218, -1.81827517,\n",
       "        -1.81921202, -1.80594192, -1.80747588, -1.8274021 ]),\n",
       " 'split2_train_score': array([-1.84423252, -1.84532585, -1.84612234, -1.81224431, -1.81502997,\n",
       "        -1.81641418, -1.7996265 , -1.80224442, -1.82274363]),\n",
       " 'split3_test_score': array([-1.84732721, -1.84854463, -1.84911118, -1.81482409, -1.81611468,\n",
       "        -1.82038809, -1.80613126, -1.80507543, -1.80596024]),\n",
       " 'split3_train_score': array([-1.84472844, -1.84622177, -1.84687009, -1.81098545, -1.81286745,\n",
       "        -1.81532053, -1.80069988, -1.79989172, -1.80150951]),\n",
       " 'split4_test_score': array([-1.8358662 , -1.83699697, -1.83796144, -1.82935601, -1.8336392 ,\n",
       "        -1.83404277, -1.8116441 , -1.81394898, -1.81649396]),\n",
       " 'split4_train_score': array([-1.83073169, -1.8315239 , -1.83294337, -1.82216809, -1.82690579,\n",
       "        -1.82767092, -1.80511663, -1.80781867, -1.81050857]),\n",
       " 'std_fit_time': array([ 0.47299031,  0.32854824,  0.11920913,  0.22024785,  0.18955198,\n",
       "         0.0956729 ,  0.10900342,  0.10977173,  0.08292252]),\n",
       " 'std_score_time': array([ 0.0446663 ,  0.06258856,  0.03496163,  0.05011337,  0.05514127,\n",
       "         0.05545997,  0.04303402,  0.03013483,  0.03124195]),\n",
       " 'std_test_score': array([ 0.00769494,  0.00748588,  0.00750805,  0.00637455,  0.00701213,\n",
       "         0.00645415,  0.00211836,  0.00319054,  0.00701096]),\n",
       " 'std_train_score': array([ 0.00762117,  0.00754806,  0.00730687,  0.00588575,  0.00654582,\n",
       "         0.00613771,  0.00234911,  0.00324428,  0.0069329 ])}"
      ]
     },
     "execution_count": 7,
     "metadata": {},
     "output_type": "execute_result"
    }
   ],
   "source": [
    "gsearch2_2.cv_results_"
   ]
  },
  {
   "cell_type": "code",
   "execution_count": 8,
   "metadata": {
    "collapsed": false,
    "scrolled": true
   },
   "outputs": [
    {
     "name": "stdout",
     "output_type": "stream",
     "text": [
      "Best: -1.808345 using {'max_depth': 8, 'min_child_weight': 4}\n"
     ]
    },
    {
     "data": {
      "image/png": "[encoded data removed]",
      "text/plain": [
       "<matplotlib.figure.Figure at 0x10fd38550>"
      ]
     },
     "metadata": {},
     "output_type": "display_data"
    }
   ],
   "source": [
    "# summarize results\n",
    "print(\"Best: %f using %s\" % (gsearch1.best_score_, gsearch1.best_params_))\n",
    "test_means = gsearch2_2.cv_results_[ 'mean_test_score' ]\n",
    "test_stds = gsearch2_2.cv_results_[ 'std_test_score' ]\n",
    "train_means = gsearch2_2.cv_results_[ 'mean_train_score' ]\n",
    "train_stds = gsearch2_2.cv_results_[ 'std_train_score' ]\n",
    "\n",
    "pd.DataFrame(gsearch2_2.cv_results_).to_csv('my_preds_maxdepth_min_child_weights_2.csv')\n",
    "\n",
    "# plot results\n",
    "test_scores = np.array(test_means).reshape(len(min_child_weight), len(max_depth))\n",
    "train_scores = np.array(train_means).reshape(len(min_child_weight), len(max_depth))\n",
    "\n",
    "for i, value in enumerate(min_child_weight):\n",
    "    pyplot.plot(max_depth, test_scores[i], label= 'test_min_child_weight:'   + str(value))\n",
    "#for i, value in enumerate(min_child_weight):\n",
    "#    pyplot.plot(max_depth, train_scores[i], label= 'train_min_child_weight:'   + str(value))\n",
    "    \n",
    "pyplot.legend()\n",
    "pyplot.xlabel( 'max_depth' )                                                                                                      \n",
    "pyplot.ylabel( '- Log Loss' )\n",
    "pyplot.savefig( 'max_depth_vs_min_child_weght2.png' )"
   ]
  }
 ],
 "metadata": {
  "kernelspec": {
   "display_name": "Python 2",
   "language": "python",
   "name": "python2"
  },
  "language_info": {
   "codemirror_mode": {
    "name": "ipython",
    "version": 2
   },
   "file_extension": ".py",
   "mimetype": "text/x-python",
   "name": "python",
   "nbconvert_exporter": "python",
   "pygments_lexer": "ipython2",
   "version": "2.7.13"
  }
 },
 "nbformat": 4,
 "nbformat_minor": 2
}

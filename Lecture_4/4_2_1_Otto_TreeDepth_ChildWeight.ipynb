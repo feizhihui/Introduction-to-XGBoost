{
 "cells": [
  {
   "cell_type": "markdown",
   "metadata": {},
   "source": [
    "# XGBoost Parameter Tuning for Otto Dataset"
   ]
  },
  {
   "cell_type": "markdown",
   "metadata": {},
   "source": [
    "我们以Kaggle 2015年举办的Otto Group Product Classification Challenge竞赛数据为例，进行XGBoost参数调优探索。\n",
    "\n",
    "竞赛官网：https://www.kaggle.com/c/otto-group-product-classification-challenge/data"
   ]
  },
  {
   "cell_type": "markdown",
   "metadata": {},
   "source": [
    "# 第二步：调整树的参数：max_depth & min_child_weight\n",
    "(粗调，参数的步长为2；下一步是在粗调最佳参数周围，将步长降为1，进行精细调整)"
   ]
  },
  {
   "cell_type": "markdown",
   "metadata": {},
   "source": [
    "首先 import 必要的模块"
   ]
  },
  {
   "cell_type": "code",
   "execution_count": 1,
   "metadata": {
    "collapsed": true
   },
   "outputs": [],
   "source": [
    "from xgboost import XGBClassifier\n",
    "import xgboost as xgb\n",
    "\n",
    "import pandas as pd \n",
    "import numpy as np\n",
    "\n",
    "from sklearn.model_selection import GridSearchCV\n",
    "from sklearn.model_selection import StratifiedKFold\n",
    "\n",
    "from sklearn.metrics import log_loss\n",
    "\n",
    "from matplotlib import pyplot\n",
    "import seaborn as sns\n",
    "%matplotlib inline"
   ]
  },
  {
   "cell_type": "markdown",
   "metadata": {},
   "source": [
    "## 读取数据"
   ]
  },
  {
   "cell_type": "code",
   "execution_count": 2,
   "metadata": {
    "collapsed": false,
    "scrolled": true
   },
   "outputs": [],
   "source": [
    "# path to where the data lies\n",
    "dpath = './data/'\n",
    "train = pd.read_csv(dpath +\"Otto_train.csv\")\n",
    "#train.head()"
   ]
  },
  {
   "cell_type": "markdown",
   "metadata": {},
   "source": [
    "## Variable Identification"
   ]
  },
  {
   "cell_type": "markdown",
   "metadata": {},
   "source": [
    "选择该数据集是因为的数据特征单一，我们可以在特征工程方面少做些工作，集中精力放在参数调优上"
   ]
  },
  {
   "cell_type": "markdown",
   "metadata": {},
   "source": [
    "## Target 分布，看看各类样本分布是否均衡"
   ]
  },
  {
   "cell_type": "code",
   "execution_count": 3,
   "metadata": {
    "collapsed": false,
    "scrolled": false
   },
   "outputs": [],
   "source": [
    "#sns.countplot(train.target);\n",
    "#pyplot.xlabel('target');\n",
    "#pyplot.ylabel('Number of occurrences');"
   ]
  },
  {
   "cell_type": "markdown",
   "metadata": {},
   "source": [
    "每类样本分布不是很均匀，所以交叉验证时也考虑各类样本按比例抽取"
   ]
  },
  {
   "cell_type": "code",
   "execution_count": 4,
   "metadata": {
    "collapsed": false
   },
   "outputs": [],
   "source": [
    "# drop ids and get labels\n",
    "y_train = train['target']\n",
    "y_train = y_train.map(lambda s: s[6:])\n",
    "y_train = y_train.map(lambda s: int(s)-1)\n",
    "\n",
    "train = train.drop([\"id\", \"target\"], axis=1)\n",
    "X_train = np.array(train)"
   ]
  },
  {
   "cell_type": "markdown",
   "metadata": {},
   "source": [
    "各类样本不均衡，交叉验证是采用StratifiedKFold，在每折采样时各类样本按比例采样"
   ]
  },
  {
   "cell_type": "code",
   "execution_count": 5,
   "metadata": {
    "collapsed": true
   },
   "outputs": [],
   "source": [
    "# prepare cross validation\n",
    "kfold = StratifiedKFold(n_splits=5, shuffle=True, random_state=3)"
   ]
  },
  {
   "cell_type": "markdown",
   "metadata": {},
   "source": [
    "第一轮参数调整得到的n_estimators最优值（699），其余参数继续默认值"
   ]
  },
  {
   "cell_type": "markdown",
   "metadata": {},
   "source": [
    "用交叉验证评价模型性能时，用scoring参数定义评价指标。评价指标是越高越好，因此用一些损失函数当评价指标时，需要再加负号，如neg_log_loss，neg_mean_squared_error 详见sklearn文档：http://scikit-learn.org/stable/modules/model_evaluation.html#log-loss"
   ]
  },
  {
   "cell_type": "code",
   "execution_count": 6,
   "metadata": {
    "collapsed": false,
    "scrolled": true
   },
   "outputs": [
    {
     "data": {
      "text/plain": [
       "{'max_depth': [3, 5, 7, 9], 'min_child_weight': [1, 3, 5]}"
      ]
     },
     "execution_count": 6,
     "metadata": {},
     "output_type": "execute_result"
    }
   ],
   "source": [
    "#max_depth 建议3-10， min_child_weight=1／sqrt(ratio_rare_event) =5.5\n",
    "max_depth = range(3,10,2)\n",
    "min_child_weight = range(1,6,2)\n",
    "param_test2_1 = dict(max_depth=max_depth, min_child_weight=min_child_weight)\n",
    "param_test2_1"
   ]
  },
  {
   "cell_type": "code",
   "execution_count": 7,
   "metadata": {
    "collapsed": false,
    "scrolled": true
   },
   "outputs": [
    {
     "name": "stderr",
     "output_type": "stream",
     "text": [
      "/Applications/anaconda/lib/python2.7/site-packages/sklearn/model_selection/_search.py:667: DeprecationWarning: The grid_scores_ attribute was deprecated in version 0.18 in favor of the more elaborate cv_results_ attribute. The grid_scores_ attribute will not be available from 0.20\n",
      "  DeprecationWarning)\n"
     ]
    },
    {
     "data": {
      "text/plain": [
       "([mean: -1.89738, std: 0.00740, params: {'max_depth': 3, 'min_child_weight': 1},\n",
       "  mean: -1.89750, std: 0.00731, params: {'max_depth': 3, 'min_child_weight': 3},\n",
       "  mean: -1.89795, std: 0.00730, params: {'max_depth': 3, 'min_child_weight': 5},\n",
       "  mean: -1.84625, std: 0.01128, params: {'max_depth': 5, 'min_child_weight': 1},\n",
       "  mean: -1.84747, std: 0.01117, params: {'max_depth': 5, 'min_child_weight': 3},\n",
       "  mean: -1.84842, std: 0.01125, params: {'max_depth': 5, 'min_child_weight': 5},\n",
       "  mean: -1.81426, std: 0.00648, params: {'max_depth': 7, 'min_child_weight': 1},\n",
       "  mean: -1.81820, std: 0.00657, params: {'max_depth': 7, 'min_child_weight': 3},\n",
       "  mean: -1.82191, std: 0.00701, params: {'max_depth': 7, 'min_child_weight': 5},\n",
       "  mean: -1.80225, std: 0.00421, params: {'max_depth': 9, 'min_child_weight': 1},\n",
       "  mean: -1.80935, std: 0.00393, params: {'max_depth': 9, 'min_child_weight': 3},\n",
       "  mean: -1.81214, std: 0.00311, params: {'max_depth': 9, 'min_child_weight': 5}],\n",
       " {'max_depth': 9, 'min_child_weight': 1},\n",
       " -1.8022529801314739)"
      ]
     },
     "execution_count": 7,
     "metadata": {},
     "output_type": "execute_result"
    }
   ],
   "source": [
    "xgb2_1 = XGBClassifier(\n",
    "        learning_rate =0.1,\n",
    "        n_estimators=2,  #第一轮参数调整得到的n_estimators最优值\n",
    "        max_depth=5,\n",
    "        min_child_weight=1,\n",
    "        gamma=0,\n",
    "        subsample=0.3,\n",
    "        colsample_bytree=0.8,\n",
    "        colsample_bylevel = 0.7,\n",
    "        objective= 'multi:softprob',\n",
    "        seed=3)\n",
    "\n",
    "\n",
    "gsearch2_1 = GridSearchCV(xgb2_1, param_grid = param_test2_1, scoring='neg_log_loss',n_jobs=-1, cv=kfold)\n",
    "gsearch2_1.fit(X_train , y_train)\n",
    "\n",
    "gsearch2_1.grid_scores_, gsearch2_1.best_params_,     gsearch2_1.best_score_"
   ]
  },
  {
   "cell_type": "code",
   "execution_count": 8,
   "metadata": {
    "collapsed": false,
    "scrolled": true
   },
   "outputs": [
    {
     "data": {
      "text/plain": [
       "{'mean_fit_time': array([ 2.23074861,  2.65763454,  2.69463925,  3.30102944,  3.62995882,\n",
       "         3.59766273,  4.28756704,  4.49844666,  4.48730793,  5.3142704 ,\n",
       "         5.55349984,  4.68907838]),\n",
       " 'mean_score_time': array([ 0.16698532,  0.07552595,  0.10664678,  0.10792656,  0.0900722 ,\n",
       "         0.11578994,  0.12307835,  0.12351956,  0.13793001,  0.17913656,\n",
       "         0.16294136,  0.10563679]),\n",
       " 'mean_test_score': array([-1.89738453, -1.89749741, -1.89794523, -1.84625175, -1.84746907,\n",
       "        -1.84842319, -1.81425999, -1.81819681, -1.82191243, -1.80225298,\n",
       "        -1.80935193, -1.81214152]),\n",
       " 'mean_train_score': array([-1.89582817, -1.89601021, -1.89646037, -1.84306682, -1.84496196,\n",
       "        -1.84615697, -1.80789678, -1.81299341, -1.81775794, -1.79172928,\n",
       "        -1.80148929, -1.80581986]),\n",
       " 'param_max_depth': masked_array(data = [3 3 3 5 5 5 7 7 7 9 9 9],\n",
       "              mask = [False False False False False False False False False False False False],\n",
       "        fill_value = ?),\n",
       " 'param_min_child_weight': masked_array(data = [1 3 5 1 3 5 1 3 5 1 3 5],\n",
       "              mask = [False False False False False False False False False False False False],\n",
       "        fill_value = ?),\n",
       " 'params': ({'max_depth': 3, 'min_child_weight': 1},\n",
       "  {'max_depth': 3, 'min_child_weight': 3},\n",
       "  {'max_depth': 3, 'min_child_weight': 5},\n",
       "  {'max_depth': 5, 'min_child_weight': 1},\n",
       "  {'max_depth': 5, 'min_child_weight': 3},\n",
       "  {'max_depth': 5, 'min_child_weight': 5},\n",
       "  {'max_depth': 7, 'min_child_weight': 1},\n",
       "  {'max_depth': 7, 'min_child_weight': 3},\n",
       "  {'max_depth': 7, 'min_child_weight': 5},\n",
       "  {'max_depth': 9, 'min_child_weight': 1},\n",
       "  {'max_depth': 9, 'min_child_weight': 3},\n",
       "  {'max_depth': 9, 'min_child_weight': 5}),\n",
       " 'rank_test_score': array([10, 11, 12,  7,  8,  9,  4,  5,  6,  1,  2,  3], dtype=int32),\n",
       " 'split0_test_score': array([-1.904837  , -1.9048393 , -1.90537758, -1.86813661, -1.86922186,\n",
       "        -1.87028639, -1.80864564, -1.81205344, -1.81534182, -1.7955135 ,\n",
       "        -1.80454465, -1.80950213]),\n",
       " 'split0_train_score': array([-1.90079462, -1.90087334, -1.90126588, -1.86396653, -1.86575001,\n",
       "        -1.86690596, -1.80110119, -1.8061502 , -1.80999227, -1.78507966,\n",
       "        -1.79747592, -1.80407026]),\n",
       " 'split1_test_score': array([-1.89414433, -1.89418724, -1.89449427, -1.84260162, -1.84371216,\n",
       "        -1.84471012, -1.81933539, -1.82307976, -1.82619675, -1.79917828,\n",
       "        -1.80483572, -1.80860676]),\n",
       " 'split1_train_score': array([-1.89538117, -1.89557858, -1.89589882, -1.84090216, -1.84306947,\n",
       "        -1.84431668, -1.81445103, -1.8197674 , -1.82399422, -1.78883   ,\n",
       "        -1.79693318, -1.80241998]),\n",
       " 'split2_test_score': array([-1.90097688, -1.90122587, -1.90157714, -1.84294482, -1.8439429 ,\n",
       "        -1.84512163, -1.81001654, -1.81433944, -1.81827517, -1.80576014,\n",
       "        -1.81140141, -1.81747666]),\n",
       " 'split2_train_score': array([-1.89983001, -1.90005227, -1.9005272 , -1.83932917, -1.84119965,\n",
       "        -1.84252076, -1.80457729, -1.80961677, -1.81502997, -1.79441037,\n",
       "        -1.80353913, -1.81113164]),\n",
       " 'split3_test_score': array([-1.90253915, -1.90250469, -1.90300397, -1.8420231 , -1.84330308,\n",
       "        -1.84418303, -1.80879493, -1.81282132, -1.81611468, -1.80624298,\n",
       "        -1.8142515 , -1.81280824]),\n",
       " 'split3_train_score': array([-1.90115811, -1.90137115, -1.90198618, -1.84171322, -1.84326367,\n",
       "        -1.84447145, -1.80390443, -1.808715  , -1.81286745, -1.79601218,\n",
       "        -1.8060183 , -1.80577938]),\n",
       " 'split4_test_score': array([-1.8844191 , -1.88472388, -1.88526713, -1.83554503, -1.83715799,\n",
       "        -1.83780728, -1.82451212, -1.82869492, -1.8336392 , -1.80457228,\n",
       "        -1.81172845, -1.81231459]),\n",
       " 'split4_train_score': array([-1.88197695, -1.88217572, -1.88262378, -1.82942303, -1.83152702,\n",
       "        -1.83257   , -1.81544997, -1.82071769, -1.82690579, -1.79431418,\n",
       "        -1.80347994, -1.80569803]),\n",
       " 'std_fit_time': array([ 0.4208097 ,  0.19117497,  0.1765739 ,  0.1672316 ,  0.11324032,\n",
       "         0.15489323,  0.13125475,  0.15735095,  0.17904223,  0.13649619,\n",
       "         0.19436801,  0.38385669]),\n",
       " 'std_score_time': array([ 0.03265332,  0.01407311,  0.04169902,  0.04168524,  0.02764364,\n",
       "         0.02179954,  0.0489764 ,  0.03210032,  0.02548046,  0.03983879,\n",
       "         0.0646084 ,  0.05419839]),\n",
       " 'std_test_score': array([ 0.00739684,  0.00730685,  0.00730231,  0.0112763 ,  0.01116656,\n",
       "         0.01125537,  0.00648432,  0.00656567,  0.00701213,  0.00420672,\n",
       "         0.00393359,  0.00311136]),\n",
       " 'std_train_score': array([ 0.00722696,  0.00721537,  0.00723786,  0.01134406,  0.01125399,\n",
       "         0.01126567,  0.00588467,  0.00603469,  0.00654582,  0.00411914,\n",
       "         0.00362054,  0.00292752])}"
      ]
     },
     "execution_count": 8,
     "metadata": {},
     "output_type": "execute_result"
    }
   ],
   "source": [
    "gsearch2_1.cv_results_"
   ]
  },
  {
   "cell_type": "code",
   "execution_count": 10,
   "metadata": {
    "collapsed": false,
    "scrolled": true
   },
   "outputs": [
    {
     "name": "stdout",
     "output_type": "stream",
     "text": [
      "Best: -1.802253 using {'max_depth': 9, 'min_child_weight': 1}\n"
     ]
    },
    {
     "data": {
      "image/png": "[encoded data removed]",
      "text/plain": [
       "<matplotlib.figure.Figure at 0x116473f10>"
      ]
     },
     "metadata": {},
     "output_type": "display_data"
    }
   ],
   "source": [
    "# summarize results\n",
    "print(\"Best: %f using %s\" % (gsearch2_1.best_score_, gsearch2_1.best_params_))\n",
    "test_means = gsearch2_1.cv_results_[ 'mean_test_score' ]\n",
    "test_stds = gsearch2_1.cv_results_[ 'std_test_score' ]\n",
    "train_means = gsearch2_1.cv_results_[ 'mean_train_score' ]\n",
    "train_stds = gsearch2_1.cv_results_[ 'std_train_score' ]\n",
    "\n",
    "pd.DataFrame(gsearch2_1.cv_results_).to_csv('my_preds_maxdepth_min_child_weights_1.csv')\n",
    "\n",
    "# plot results\n",
    "test_scores = np.array(test_means).reshape(len(max_depth), len(min_child_weight))\n",
    "train_scores = np.array(train_means).reshape(len(max_depth), len(min_child_weight))\n",
    "\n",
    "for i, value in enumerate(max_depth):\n",
    "    pyplot.plot(min_child_weight, -test_scores[i], label= 'test_max_depth:'   + str(value))\n",
    "#for i, value in enumerate(min_child_weight):\n",
    "#    pyplot.plot(max_depth, train_scores[i], label= 'train_min_child_weight:'   + str(value))\n",
    "    \n",
    "pyplot.legend()\n",
    "pyplot.xlabel( 'max_depth' )                                                                                                      \n",
    "pyplot.ylabel( 'Log Loss' )\n",
    "pyplot.savefig('max_depth_vs_min_child_weght_1.png' )"
   ]
  }
 ],
 "metadata": {
  "kernelspec": {
   "display_name": "Python 2",
   "language": "python",
   "name": "python2"
  },
  "language_info": {
   "codemirror_mode": {
    "name": "ipython",
    "version": 2
   },
   "file_extension": ".py",
   "mimetype": "text/x-python",
   "name": "python",
   "nbconvert_exporter": "python",
   "pygments_lexer": "ipython2",
   "version": "2.7.13"
  }
 },
 "nbformat": 4,
 "nbformat_minor": 2
}

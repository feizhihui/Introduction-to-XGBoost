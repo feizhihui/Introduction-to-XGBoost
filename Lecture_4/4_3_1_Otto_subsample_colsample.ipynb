{
 "cells": [
  {
   "cell_type": "markdown",
   "metadata": {},
   "source": [
    "# XGBoost Parameter Tuning for Otto Dataset"
   ]
  },
  {
   "cell_type": "markdown",
   "metadata": {},
   "source": [
    "我们以Kaggle 2015年举办的Otto Group Product Classification Challenge竞赛数据为例，进行XGBoost参数调优探索。\n",
    "\n",
    "竞赛官网：https://www.kaggle.com/c/otto-group-product-classification-challenge/data"
   ]
  },
  {
   "cell_type": "markdown",
   "metadata": {},
   "source": [
    "# 第四步：调整树的参数：subsample 和 colsample_bytree\n",
    "(粗调，参数的步长为0.1；下一步是在粗调最佳参数周围，将步长降为0.05，进行精细调整)"
   ]
  },
  {
   "cell_type": "markdown",
   "metadata": {},
   "source": [
    "首先 import 必要的模块"
   ]
  },
  {
   "cell_type": "code",
   "execution_count": 2,
   "metadata": {
    "collapsed": true
   },
   "outputs": [],
   "source": [
    "from xgboost import XGBClassifier\n",
    "import xgboost as xgb\n",
    "\n",
    "import pandas as pd \n",
    "import numpy as np\n",
    "\n",
    "from sklearn.model_selection import GridSearchCV\n",
    "from sklearn.model_selection import StratifiedKFold\n",
    "\n",
    "from sklearn.metrics import log_loss\n",
    "\n",
    "from matplotlib import pyplot\n",
    "import seaborn as sns\n",
    "%matplotlib inline"
   ]
  },
  {
   "cell_type": "markdown",
   "metadata": {},
   "source": [
    "## 读取数据"
   ]
  },
  {
   "cell_type": "code",
   "execution_count": 3,
   "metadata": {
    "collapsed": false,
    "scrolled": true
   },
   "outputs": [],
   "source": [
    "# path to where the data lies\n",
    "dpath = './data/'\n",
    "train = pd.read_csv(dpath +\"Otto_train.csv\")\n",
    "#train.head()"
   ]
  },
  {
   "cell_type": "markdown",
   "metadata": {},
   "source": [
    "## Variable Identification"
   ]
  },
  {
   "cell_type": "markdown",
   "metadata": {},
   "source": [
    "选择该数据集是因为的数据特征单一，我们可以在特征工程方面少做些工作，集中精力放在参数调优上"
   ]
  },
  {
   "cell_type": "markdown",
   "metadata": {},
   "source": [
    "## Target 分布，看看各类样本分布是否均衡"
   ]
  },
  {
   "cell_type": "code",
   "execution_count": 4,
   "metadata": {
    "collapsed": false,
    "scrolled": false
   },
   "outputs": [],
   "source": [
    "#sns.countplot(train.target);\n",
    "#pyplot.xlabel('target');\n",
    "#pyplot.ylabel('Number of occurrences');"
   ]
  },
  {
   "cell_type": "markdown",
   "metadata": {},
   "source": [
    "每类样本分布不是很均匀，所以交叉验证时也考虑各类样本按比例抽取"
   ]
  },
  {
   "cell_type": "code",
   "execution_count": 5,
   "metadata": {
    "collapsed": false
   },
   "outputs": [],
   "source": [
    "# drop ids and get labels\n",
    "y_train = train['target']\n",
    "y_train = y_train.map(lambda s: s[6:])\n",
    "y_train = y_train.map(lambda s: int(s)-1)\n",
    "\n",
    "train = train.drop([\"id\", \"target\"], axis=1)\n",
    "X_train = np.array(train)"
   ]
  },
  {
   "cell_type": "markdown",
   "metadata": {},
   "source": [
    "各类样本不均衡，交叉验证是采用StratifiedKFold，在每折采样时各类样本按比例采样"
   ]
  },
  {
   "cell_type": "code",
   "execution_count": 6,
   "metadata": {
    "collapsed": true
   },
   "outputs": [],
   "source": [
    "# prepare cross validation\n",
    "kfold = StratifiedKFold(n_splits=5, shuffle=True, random_state=3)"
   ]
  },
  {
   "cell_type": "markdown",
   "metadata": {},
   "source": [
    "第二轮参数调整得到的n_estimators最优值（645），其余参数继续默认值"
   ]
  },
  {
   "cell_type": "markdown",
   "metadata": {},
   "source": [
    "用交叉验证评价模型性能时，用scoring参数定义评价指标。评价指标是越高越好，因此用一些损失函数当评价指标时，需要再加负号，如neg_log_loss，neg_mean_squared_error 详见sklearn文档：http://scikit-learn.org/stable/modules/model_evaluation.html#log-loss"
   ]
  },
  {
   "cell_type": "code",
   "execution_count": 7,
   "metadata": {
    "collapsed": false,
    "scrolled": true
   },
   "outputs": [
    {
     "data": {
      "text/plain": [
       "{'colsample_bytree': [0.6, 0.7, 0.8, 0.9],\n",
       " 'subsample': [0.3, 0.4, 0.5, 0.6, 0.7, 0.8]}"
      ]
     },
     "execution_count": 7,
     "metadata": {},
     "output_type": "execute_result"
    }
   ],
   "source": [
    "#max_depth 建议3-10， min_child_weight=1／sqrt(ratio_rare_event) =5.5\n",
    "subsample = [i/10.0 for i in range(3,9)]\n",
    "colsample_bytree = [i/10.0 for i in range(6,10)]\n",
    "param_test3_1 = dict(subsample=subsample, colsample_bytree=colsample_bytree)\n",
    "param_test3_1\n"
   ]
  },
  {
   "cell_type": "code",
   "execution_count": 8,
   "metadata": {
    "collapsed": false,
    "scrolled": true
   },
   "outputs": [
    {
     "name": "stderr",
     "output_type": "stream",
     "text": [
      "/Applications/anaconda/lib/python2.7/site-packages/sklearn/model_selection/_search.py:667: DeprecationWarning: The grid_scores_ attribute was deprecated in version 0.18 in favor of the more elaborate cv_results_ attribute. The grid_scores_ attribute will not be available from 0.20\n",
      "  DeprecationWarning)\n"
     ]
    },
    {
     "data": {
      "text/plain": [
       "([mean: -1.85464, std: 0.00674, params: {'subsample': 0.3, 'colsample_bytree': 0.6},\n",
       "  mean: -1.85163, std: 0.00646, params: {'subsample': 0.4, 'colsample_bytree': 0.6},\n",
       "  mean: -1.85072, std: 0.00696, params: {'subsample': 0.5, 'colsample_bytree': 0.6},\n",
       "  mean: -1.84962, std: 0.00677, params: {'subsample': 0.6, 'colsample_bytree': 0.6},\n",
       "  mean: -1.84909, std: 0.00615, params: {'subsample': 0.7, 'colsample_bytree': 0.6},\n",
       "  mean: -1.84797, std: 0.00602, params: {'subsample': 0.8, 'colsample_bytree': 0.6},\n",
       "  mean: -1.84590, std: 0.00294, params: {'subsample': 0.3, 'colsample_bytree': 0.7},\n",
       "  mean: -1.84309, std: 0.00218, params: {'subsample': 0.4, 'colsample_bytree': 0.7},\n",
       "  mean: -1.84174, std: 0.00263, params: {'subsample': 0.5, 'colsample_bytree': 0.7},\n",
       "  mean: -1.83981, std: 0.00291, params: {'subsample': 0.6, 'colsample_bytree': 0.7},\n",
       "  mean: -1.83898, std: 0.00334, params: {'subsample': 0.7, 'colsample_bytree': 0.7},\n",
       "  mean: -1.83723, std: 0.00243, params: {'subsample': 0.8, 'colsample_bytree': 0.7},\n",
       "  mean: -1.84136, std: 0.00769, params: {'subsample': 0.3, 'colsample_bytree': 0.8},\n",
       "  mean: -1.83782, std: 0.00784, params: {'subsample': 0.4, 'colsample_bytree': 0.8},\n",
       "  mean: -1.83598, std: 0.00724, params: {'subsample': 0.5, 'colsample_bytree': 0.8},\n",
       "  mean: -1.83392, std: 0.00735, params: {'subsample': 0.6, 'colsample_bytree': 0.8},\n",
       "  mean: -1.83312, std: 0.00724, params: {'subsample': 0.7, 'colsample_bytree': 0.8},\n",
       "  mean: -1.83233, std: 0.00712, params: {'subsample': 0.8, 'colsample_bytree': 0.8},\n",
       "  mean: -1.82044, std: 0.00307, params: {'subsample': 0.3, 'colsample_bytree': 0.9},\n",
       "  mean: -1.81751, std: 0.00289, params: {'subsample': 0.4, 'colsample_bytree': 0.9},\n",
       "  mean: -1.81602, std: 0.00365, params: {'subsample': 0.5, 'colsample_bytree': 0.9},\n",
       "  mean: -1.81445, std: 0.00336, params: {'subsample': 0.6, 'colsample_bytree': 0.9},\n",
       "  mean: -1.81375, std: 0.00415, params: {'subsample': 0.7, 'colsample_bytree': 0.9},\n",
       "  mean: -1.81307, std: 0.00302, params: {'subsample': 0.8, 'colsample_bytree': 0.9}],\n",
       " {'colsample_bytree': 0.9, 'subsample': 0.8},\n",
       " -1.8130670687323831)"
      ]
     },
     "execution_count": 8,
     "metadata": {},
     "output_type": "execute_result"
    }
   ],
   "source": [
    "xgb3_1 = XGBClassifier(\n",
    "        learning_rate =0.1,\n",
    "        n_estimators=645,  #第二轮参数调整得到的n_estimators最优值\n",
    "        max_depth=6,\n",
    "        min_child_weight=4,\n",
    "        gamma=0,\n",
    "        subsample=0.3,\n",
    "        colsample_bytree=0.8,\n",
    "        colsample_bylevel = 0.7,\n",
    "        objective= 'multi:softprob',\n",
    "        seed=3)\n",
    "\n",
    "\n",
    "gsearch3_1 = GridSearchCV(xgb3_1, param_grid = param_test3_1, scoring='neg_log_loss',n_jobs=-1, cv=kfold)\n",
    "gsearch3_1.fit(X_train , y_train)\n",
    "\n",
    "gsearch3_1.grid_scores_, gsearch3_1.best_params_,     gsearch3_1.best_score_"
   ]
  },
  {
   "cell_type": "code",
   "execution_count": 9,
   "metadata": {
    "collapsed": false,
    "scrolled": true
   },
   "outputs": [
    {
     "data": {
      "text/plain": [
       "{'mean_fit_time': array([ 3.14737277,  3.9220068 ,  4.26192784,  3.97491193,  4.14486356,\n",
       "         4.07868838,  3.60512819,  4.21996498,  4.47547517,  4.59198093,\n",
       "         4.610958  ,  4.48971696,  4.09460516,  4.56710801,  4.94570565,\n",
       "         5.14211259,  4.86743441,  4.96423383,  4.57349935,  5.00916538,\n",
       "         5.33384223,  5.29475842,  5.44691281,  4.88081417]),\n",
       " 'mean_score_time': array([ 0.1820015 ,  0.12046518,  0.11220436,  0.14947243,  0.11784539,\n",
       "         0.14806924,  0.15361562,  0.13415322,  0.16837783,  0.15030785,\n",
       "         0.16234078,  0.15563197,  0.16268759,  0.15575037,  0.15501981,\n",
       "         0.17085381,  0.1632596 ,  0.15656061,  0.13694849,  0.1608706 ,\n",
       "         0.13947201,  0.15271521,  0.13829818,  0.06964984]),\n",
       " 'mean_test_score': array([-1.85463743, -1.85162842, -1.85072196, -1.84962436, -1.849088  ,\n",
       "        -1.8479694 , -1.84590324, -1.84309339, -1.84174369, -1.83980751,\n",
       "        -1.83897909, -1.83722575, -1.84136204, -1.83781705, -1.83597511,\n",
       "        -1.83392389, -1.83311659, -1.83233433, -1.82043788, -1.81751328,\n",
       "        -1.81602086, -1.8144546 , -1.81374651, -1.81306707]),\n",
       " 'mean_train_score': array([-1.85207135, -1.84825608, -1.84669162, -1.84539664, -1.84456935,\n",
       "        -1.84326995, -1.84205857, -1.83832121, -1.83678131, -1.83441364,\n",
       "        -1.83327323, -1.83168846, -1.83776295, -1.83391756, -1.83168831,\n",
       "        -1.8296725 , -1.82855251, -1.82740914, -1.81645463, -1.81354457,\n",
       "        -1.81148741, -1.80991906, -1.80870973, -1.80773672]),\n",
       " 'param_colsample_bytree': masked_array(data = [0.6 0.6 0.6 0.6 0.6 0.6 0.7 0.7 0.7 0.7 0.7 0.7 0.8 0.8 0.8 0.8 0.8 0.8\n",
       "  0.9 0.9 0.9 0.9 0.9 0.9],\n",
       "              mask = [False False False False False False False False False False False False\n",
       "  False False False False False False False False False False False False],\n",
       "        fill_value = ?),\n",
       " 'param_subsample': masked_array(data = [0.3 0.4 0.5 0.6 0.7 0.8 0.3 0.4 0.5 0.6 0.7 0.8 0.3 0.4 0.5 0.6 0.7 0.8\n",
       "  0.3 0.4 0.5 0.6 0.7 0.8],\n",
       "              mask = [False False False False False False False False False False False False\n",
       "  False False False False False False False False False False False False],\n",
       "        fill_value = ?),\n",
       " 'params': ({'colsample_bytree': 0.6, 'subsample': 0.3},\n",
       "  {'colsample_bytree': 0.6, 'subsample': 0.4},\n",
       "  {'colsample_bytree': 0.6, 'subsample': 0.5},\n",
       "  {'colsample_bytree': 0.6, 'subsample': 0.6},\n",
       "  {'colsample_bytree': 0.6, 'subsample': 0.7},\n",
       "  {'colsample_bytree': 0.6, 'subsample': 0.8},\n",
       "  {'colsample_bytree': 0.7, 'subsample': 0.3},\n",
       "  {'colsample_bytree': 0.7, 'subsample': 0.4},\n",
       "  {'colsample_bytree': 0.7, 'subsample': 0.5},\n",
       "  {'colsample_bytree': 0.7, 'subsample': 0.6},\n",
       "  {'colsample_bytree': 0.7, 'subsample': 0.7},\n",
       "  {'colsample_bytree': 0.7, 'subsample': 0.8},\n",
       "  {'colsample_bytree': 0.8, 'subsample': 0.3},\n",
       "  {'colsample_bytree': 0.8, 'subsample': 0.4},\n",
       "  {'colsample_bytree': 0.8, 'subsample': 0.5},\n",
       "  {'colsample_bytree': 0.8, 'subsample': 0.6},\n",
       "  {'colsample_bytree': 0.8, 'subsample': 0.7},\n",
       "  {'colsample_bytree': 0.8, 'subsample': 0.8},\n",
       "  {'colsample_bytree': 0.9, 'subsample': 0.3},\n",
       "  {'colsample_bytree': 0.9, 'subsample': 0.4},\n",
       "  {'colsample_bytree': 0.9, 'subsample': 0.5},\n",
       "  {'colsample_bytree': 0.9, 'subsample': 0.6},\n",
       "  {'colsample_bytree': 0.9, 'subsample': 0.7},\n",
       "  {'colsample_bytree': 0.9, 'subsample': 0.8}),\n",
       " 'rank_test_score': array([24, 23, 22, 21, 20, 19, 18, 17, 16, 14, 13, 11, 15, 12, 10,  9,  8,\n",
       "         7,  6,  5,  4,  3,  2,  1], dtype=int32),\n",
       " 'split0_test_score': array([-1.86081631, -1.85671379, -1.85589973, -1.8535873 , -1.85329595,\n",
       "        -1.85172176, -1.8439884 , -1.84091191, -1.8396215 , -1.83685579,\n",
       "        -1.83493681, -1.83523853, -1.84528365, -1.84294395, -1.84008095,\n",
       "        -1.83873445, -1.83702341, -1.83585277, -1.81734901, -1.81431783,\n",
       "        -1.81213302, -1.81074084, -1.80788242, -1.80986465]),\n",
       " 'split0_train_score': array([-1.85773267, -1.85311442, -1.85102012, -1.84884386, -1.84847668,\n",
       "        -1.84662355, -1.83995855, -1.83500959, -1.834267  , -1.8313344 ,\n",
       "        -1.83014369, -1.82884487, -1.84262624, -1.83879383, -1.83526386,\n",
       "        -1.83408134, -1.83231309, -1.8301846 , -1.81258669, -1.80953743,\n",
       "        -1.8066335 , -1.80631207, -1.80341368, -1.80401301]),\n",
       " 'split1_test_score': array([-1.84237423, -1.83926996, -1.83782954, -1.83676881, -1.83760546,\n",
       "        -1.83632862, -1.84193279, -1.84048047, -1.83900711, -1.83642214,\n",
       "        -1.83531631, -1.83348315, -1.82903566, -1.82523413, -1.82460029,\n",
       "        -1.82252419, -1.82211531, -1.82125102, -1.81624467, -1.81379186,\n",
       "        -1.81132171, -1.80996903, -1.80958303, -1.8090304 ]),\n",
       " 'split1_train_score': array([-1.84038902, -1.83690283, -1.8354219 , -1.83384498, -1.83444534,\n",
       "        -1.83269549, -1.83865365, -1.83643289, -1.8345164 , -1.83110153,\n",
       "        -1.83010601, -1.82870338, -1.82649585, -1.82310757, -1.82122015,\n",
       "        -1.81927364, -1.81863452, -1.81738392, -1.81440401, -1.81142229,\n",
       "        -1.80882648, -1.8062192 , -1.80575997, -1.80581224]),\n",
       " 'split2_test_score': array([-1.85500061, -1.8529695 , -1.8518834 , -1.85170482, -1.84977959,\n",
       "        -1.84958963, -1.84632606, -1.84352022, -1.84145009, -1.84068695,\n",
       "        -1.84114686, -1.83953426, -1.84929565, -1.84459953, -1.84338239,\n",
       "        -1.84086759, -1.8400249 , -1.83942371, -1.82382939, -1.82058312,\n",
       "        -1.81908488, -1.81712029, -1.81676221, -1.81528755]),\n",
       " 'split2_train_score': array([-1.85197733, -1.84907402, -1.84735552, -1.84716543, -1.84526199,\n",
       "        -1.84442848, -1.84162103, -1.83870965, -1.83655347, -1.83531802,\n",
       "        -1.83439962, -1.83366223, -1.84423252, -1.83951354, -1.83882854,\n",
       "        -1.83586602, -1.83471356, -1.83316972, -1.82130576, -1.81808452,\n",
       "        -1.81542349, -1.81324682, -1.81197158, -1.80993783]),\n",
       " 'split3_test_score': array([-1.85417236, -1.85227   , -1.85038257, -1.84980709, -1.8494298 ,\n",
       "        -1.84893385, -1.84656879, -1.84415069, -1.84218454, -1.84075578,\n",
       "        -1.84000265, -1.83852283, -1.84732721, -1.84433549, -1.84144042,\n",
       "        -1.83960742, -1.83946933, -1.83840124, -1.82310057, -1.82004397,\n",
       "        -1.82035443, -1.81704008, -1.81789223, -1.81640572]),\n",
       " 'split3_train_score': array([-1.85267236, -1.85021845, -1.84789336, -1.84725822, -1.84612272,\n",
       "        -1.84547976, -1.84555647, -1.84206249, -1.83932692, -1.83729548,\n",
       "        -1.83555339, -1.83433526, -1.84472844, -1.84107652, -1.83804669,\n",
       "        -1.83585913, -1.83535638, -1.83450651, -1.81744777, -1.81442687,\n",
       "        -1.81451724, -1.81160236, -1.81141942, -1.81052526]),\n",
       " 'split4_test_score': array([-1.86082613, -1.85692118, -1.85761754, -1.85625686, -1.85533197,\n",
       "        -1.85327561, -1.85070274, -1.84640555, -1.84645768, -1.84431946,\n",
       "        -1.84349558, -1.83935148, -1.8358662 , -1.83196999, -1.8303695 ,\n",
       "        -1.82788349, -1.82694779, -1.82674096, -1.82166708, -1.81883097,\n",
       "        -1.81721176, -1.81740492, -1.81661511, -1.81474854]),\n",
       " 'split4_train_score': array([-1.85758538, -1.85197067, -1.85176721, -1.84987071, -1.84854004,\n",
       "        -1.84712247, -1.84450313, -1.83939145, -1.83924277, -1.83701878,\n",
       "        -1.83616343, -1.83289655, -1.83073169, -1.82709633, -1.82508231,\n",
       "        -1.82328238, -1.821745  , -1.82180094, -1.81652891, -1.81425175,\n",
       "        -1.81203632, -1.81221483, -1.810984  , -1.80839528]),\n",
       " 'std_fit_time': array([ 0.51723369,  0.19521514,  0.09663428,  0.25921928,  0.14558462,\n",
       "         0.09884328,  0.18654109,  0.11371431,  0.21877208,  0.26381744,\n",
       "         0.12806775,  0.14443049,  0.19681033,  0.2724425 ,  0.16455695,\n",
       "         0.04584316,  0.1377156 ,  0.19330166,  0.15797814,  0.10158864,\n",
       "         0.15645757,  0.06650824,  0.10203499,  0.56893919]),\n",
       " 'std_score_time': array([ 0.06943562,  0.0225352 ,  0.02409093,  0.04749448,  0.03506548,\n",
       "         0.03004994,  0.05483353,  0.05286596,  0.03982301,  0.04520137,\n",
       "         0.0423434 ,  0.03900674,  0.03848011,  0.02913056,  0.04510021,\n",
       "         0.01821715,  0.04991214,  0.03709342,  0.03047587,  0.05716494,\n",
       "         0.02354687,  0.03476269,  0.03753794,  0.02712409]),\n",
       " 'std_test_score': array([ 0.00674126,  0.00646263,  0.00695763,  0.00677241,  0.00615048,\n",
       "         0.00602174,  0.00293537,  0.00218423,  0.00262634,  0.00290514,\n",
       "         0.00334361,  0.00242847,  0.00769494,  0.00783975,  0.0072445 ,\n",
       "         0.00734992,  0.00724476,  0.00712151,  0.00307348,  0.00288541,\n",
       "         0.00365484,  0.00335886,  0.00415304,  0.00301523]),\n",
       " 'std_train_score': array([ 0.00631351,  0.00584496,  0.00588879,  0.00586405,  0.00522344,\n",
       "         0.00536904,  0.00262321,  0.00244238,  0.00219282,  0.00269672,\n",
       "         0.00263236,  0.00242312,  0.00762117,  0.00734478,  0.00717521,\n",
       "         0.0070006 ,  0.00697283,  0.00668157,  0.00295605,  0.00291379,\n",
       "         0.00333511,  0.0030291 ,  0.00346132,  0.00247484])}"
      ]
     },
     "execution_count": 9,
     "metadata": {},
     "output_type": "execute_result"
    }
   ],
   "source": [
    "gsearch3_1.cv_results_"
   ]
  },
  {
   "cell_type": "code",
   "execution_count": 11,
   "metadata": {
    "collapsed": false,
    "scrolled": true
   },
   "outputs": [
    {
     "name": "stdout",
     "output_type": "stream",
     "text": [
      "Best: -1.813067 using {'subsample': 0.8, 'colsample_bytree': 0.9}\n"
     ]
    },
    {
     "data": {
      "image/png": "[encoded data removed]",
      "text/plain": [
       "<matplotlib.figure.Figure at 0x11fcbad90>"
      ]
     },
     "metadata": {},
     "output_type": "display_data"
    }
   ],
   "source": [
    "# summarize results\n",
    "print(\"Best: %f using %s\" % (gsearch3_1.best_score_, gsearch3_1.best_params_))\n",
    "test_means = gsearch3_1.cv_results_[ 'mean_test_score' ]\n",
    "test_stds = gsearch3_1.cv_results_[ 'std_test_score' ]\n",
    "train_means = gsearch3_1.cv_results_[ 'mean_train_score' ]\n",
    "train_stds = gsearch3_1.cv_results_[ 'std_train_score' ]\n",
    "\n",
    "pd.DataFrame(gsearch3_1.cv_results_).to_csv('my_preds_subsampleh_colsample_bytree_1.csv')\n",
    "\n",
    "# plot results\n",
    "test_scores = np.array(test_means).reshape(len(colsample_bytree), len(subsample))\n",
    "train_scores = np.array(train_means).reshape(len(colsample_bytree), len(subsample))\n",
    "\n",
    "for i, value in enumerate(colsample_bytree):\n",
    "    pyplot.plot(subsample, -test_scores[i], label= 'test_colsample_bytree:'   + str(value))\n",
    "#for i, value in enumerate(min_child_weight):\n",
    "#    pyplot.plot(max_depth, train_scores[i], label= 'train_min_child_weight:'   + str(value))\n",
    "    \n",
    "pyplot.legend()\n",
    "pyplot.xlabel( 'subsample' )                                                                                                      \n",
    "pyplot.ylabel( 'Log Loss' )\n",
    "pyplot.savefig( 'subsample_vs_colsample_bytree1.png' )"
   ]
  }
 ],
 "metadata": {
  "kernelspec": {
   "display_name": "Python 2",
   "language": "python",
   "name": "python2"
  },
  "language_info": {
   "codemirror_mode": {
    "name": "ipython",
    "version": 2
   },
   "file_extension": ".py",
   "mimetype": "text/x-python",
   "name": "python",
   "nbconvert_exporter": "python",
   "pygments_lexer": "ipython2",
   "version": "2.7.13"
  }
 },
 "nbformat": 4,
 "nbformat_minor": 2
}

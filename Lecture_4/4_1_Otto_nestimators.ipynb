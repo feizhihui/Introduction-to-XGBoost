{
 "cells": [
  {
   "cell_type": "markdown",
   "metadata": {},
   "source": [
    "# XGBoost Parameter Tuning for Otto Dataset"
   ]
  },
  {
   "cell_type": "markdown",
   "metadata": {},
   "source": [
    "我们以Kaggle 2015年举办的Otto Group Product Classification Challenge竞赛数据为例，进行XGBoost参数调优探索。\n",
    "\n",
    "竞赛官网：https://www.kaggle.com/c/otto-group-product-classification-challenge/data"
   ]
  },
  {
   "cell_type": "markdown",
   "metadata": {},
   "source": [
    "首先 import 必要的模块"
   ]
  },
  {
   "cell_type": "code",
   "execution_count": 1,
   "metadata": {
    "collapsed": true
   },
   "outputs": [],
   "source": [
    "from xgboost import XGBClassifier\n",
    "import xgboost as xgb\n",
    "\n",
    "import pandas as pd \n",
    "import numpy as np\n",
    "\n",
    "from sklearn.model_selection import GridSearchCV\n",
    "from sklearn.model_selection import StratifiedKFold\n",
    "\n",
    "from sklearn.metrics import log_loss\n",
    "\n",
    "from matplotlib import pyplot\n",
    "import seaborn as sns\n",
    "%matplotlib inline"
   ]
  },
  {
   "cell_type": "markdown",
   "metadata": {},
   "source": [
    "## 读取数据"
   ]
  },
  {
   "cell_type": "code",
   "execution_count": 2,
   "metadata": {
    "collapsed": false,
    "scrolled": true
   },
   "outputs": [],
   "source": [
    "# path to where the data lies\n",
    "#dpath = '/Users/qing/desktop/XGBoost/data/'\n",
    "dpath = './data/'\n",
    "train = pd.read_csv(dpath +\"Otto_train.csv\")\n",
    "#train.head()"
   ]
  },
  {
   "cell_type": "markdown",
   "metadata": {},
   "source": [
    "## Variable Identification"
   ]
  },
  {
   "cell_type": "markdown",
   "metadata": {},
   "source": [
    "选择该数据集是因为的数据特征单一，我们可以在特征工程方面少做些工作，集中精力放在参数调优上"
   ]
  },
  {
   "cell_type": "markdown",
   "metadata": {},
   "source": [
    "## Target 分布，看看各类样本分布是否均衡"
   ]
  },
  {
   "cell_type": "code",
   "execution_count": 3,
   "metadata": {
    "collapsed": false,
    "scrolled": false
   },
   "outputs": [
    {
     "data": {
      "image/png": "[encoded data removed]",
      "text/plain": [
       "<matplotlib.figure.Figure at 0x1037e3990>"
      ]
     },
     "metadata": {},
     "output_type": "display_data"
    }
   ],
   "source": [
    "#sns.countplot(train.target);\n",
    "#pyplot.xlabel('target');\n",
    "#pyplot.ylabel('Number of occurrences');"
   ]
  },
  {
   "cell_type": "markdown",
   "metadata": {},
   "source": [
    "每类样本分布不是很均匀，所以交叉验证时也考虑各类样本按比例抽取"
   ]
  },
  {
   "cell_type": "code",
   "execution_count": 4,
   "metadata": {
    "collapsed": false
   },
   "outputs": [],
   "source": [
    "# drop ids and get labels\n",
    "y_train = train['target']\n",
    "y_train = y_train.map(lambda s: s[6:])\n",
    "y_train = y_train.map(lambda s: int(s)-1)\n",
    "\n",
    "train = train.drop([\"id\", \"target\"], axis=1)\n",
    "X_train = np.array(train)"
   ]
  },
  {
   "cell_type": "markdown",
   "metadata": {},
   "source": [
    "各类样本不均衡，交叉验证是采用StratifiedKFold，在每折采样时各类样本按比例采样"
   ]
  },
  {
   "cell_type": "code",
   "execution_count": 5,
   "metadata": {
    "collapsed": true
   },
   "outputs": [],
   "source": [
    "# prepare cross validation\n",
    "kfold = StratifiedKFold(n_splits=5, shuffle=True, random_state=3)"
   ]
  },
  {
   "cell_type": "markdown",
   "metadata": {},
   "source": [
    "默认参数，此时学习率为0.1，比较大，观察弱分类数目的大致范围\n",
    "（采用默认参数配置，看看模型是过拟合还是欠拟合）"
   ]
  },
  {
   "cell_type": "code",
   "execution_count": 6,
   "metadata": {
    "collapsed": false
   },
   "outputs": [],
   "source": [
    "def modelfit(alg, X_train, y_train, useTrainCV=True, cv_folds=None, early_stopping_rounds=50):\n",
    "    \n",
    "    if useTrainCV:\n",
    "        xgb_param = alg.get_xgb_params()\n",
    "        xgb_param['num_class'] = 9\n",
    "        \n",
    "        xgtrain = xgb.DMatrix(X_train, label = y_train)\n",
    "        \n",
    "        cvresult = xgb.cv(xgb_param, xgtrain, num_boost_round=alg.get_params()['n_estimators'], folds =cv_folds,\n",
    "             metrics='mlogloss', early_stopping_rounds=early_stopping_rounds)\n",
    "        \n",
    "        n_estimators = cvresult.shape[0]\n",
    "        alg.set_params(n_estimators = n_estimators)\n",
    "        \n",
    "        print cvresult\n",
    "        #result = pd.DataFrame(cvresult)   #cv缺省返回结果为DataFrame\n",
    "        #result.to_csv('my_preds.csv', index_label = 'n_estimators')\n",
    "        cvresult.to_csv('my_preds_4_1.csv', index_label = 'n_estimators')\n",
    "        \n",
    "        # plot\n",
    "        test_means = cvresult['test-mlogloss-mean']\n",
    "        test_stds = cvresult['test-mlogloss-std'] \n",
    "        \n",
    "        train_means = cvresult['train-mlogloss-mean']\n",
    "        train_stds = cvresult['train-mlogloss-std'] \n",
    "\n",
    "        x_axis = range(0, n_estimators)\n",
    "        pyplot.errorbar(x_axis, test_means, yerr=test_stds ,label='Test')\n",
    "        pyplot.errorbar(x_axis, train_means, yerr=train_stds ,label='Train')\n",
    "        pyplot.title(\"XGBoost n_estimators vs Log Loss\")\n",
    "        pyplot.xlabel( 'n_estimators' )\n",
    "        pyplot.ylabel( 'Log Loss' )\n",
    "        pyplot.savefig( 'n_estimators.png' )\n",
    "    \n",
    "    #Fit the algorithm on the data\n",
    "    alg.fit(X_train, y_train, eval_metric='mlogloss')\n",
    "        \n",
    "    #Predict training set:\n",
    "    train_predprob = alg.predict_proba(X_train)\n",
    "    logloss = log_loss(y_train, train_predprob)\n",
    "\n",
    "        \n",
    "    #Print model report:\n",
    "    print (\"logloss of train :\" )\n",
    "    print logloss"
   ]
  },
  {
   "cell_type": "code",
   "execution_count": 7,
   "metadata": {
    "collapsed": false,
    "scrolled": true
   },
   "outputs": [
    {
     "name": "stdout",
     "output_type": "stream",
     "text": [
      "     test-mlogloss-mean  test-mlogloss-std  train-mlogloss-mean  \\\n",
      "0              1.998222           0.007693             1.996296   \n",
      "1              1.843611           0.008531             1.839663   \n",
      "2              1.722561           0.011628             1.716961   \n",
      "3              1.617769           0.008425             1.610408   \n",
      "4              1.530610           0.005379             1.521816   \n",
      "5              1.455431           0.004470             1.445322   \n",
      "6              1.390379           0.004292             1.379064   \n",
      "7              1.333290           0.002246             1.320943   \n",
      "8              1.282600           0.004352             1.269398   \n",
      "9              1.235624           0.005877             1.221328   \n",
      "10             1.192397           0.004013             1.177304   \n",
      "11             1.153756           0.003330             1.137919   \n",
      "12             1.117426           0.004823             1.100965   \n",
      "13             1.082906           0.004070             1.065680   \n",
      "14             1.052259           0.003568             1.034112   \n",
      "15             1.023614           0.002803             1.004594   \n",
      "16             0.997323           0.003271             0.977632   \n",
      "17             0.973611           0.003314             0.953321   \n",
      "18             0.952005           0.003025             0.930970   \n",
      "19             0.932645           0.004456             0.910949   \n",
      "20             0.913844           0.004273             0.891448   \n",
      "21             0.896151           0.003821             0.873015   \n",
      "22             0.879281           0.003034             0.855317   \n",
      "23             0.864811           0.003620             0.840074   \n",
      "24             0.850602           0.004339             0.825184   \n",
      "25             0.836861           0.004381             0.810829   \n",
      "26             0.824447           0.004519             0.797810   \n",
      "27             0.813073           0.004845             0.785703   \n",
      "28             0.801922           0.005359             0.774013   \n",
      "29             0.791655           0.005249             0.763072   \n",
      "..                  ...                ...                  ...   \n",
      "669            0.482982           0.009084             0.231185   \n",
      "670            0.482934           0.009077             0.230981   \n",
      "671            0.482926           0.009103             0.230781   \n",
      "672            0.482937           0.009138             0.230554   \n",
      "673            0.482930           0.009187             0.230306   \n",
      "674            0.482984           0.009130             0.230099   \n",
      "675            0.482949           0.009123             0.229894   \n",
      "676            0.482978           0.009200             0.229660   \n",
      "677            0.482993           0.009242             0.229432   \n",
      "678            0.482980           0.009223             0.229231   \n",
      "679            0.482952           0.009232             0.229000   \n",
      "680            0.482925           0.009212             0.228791   \n",
      "681            0.482988           0.009270             0.228580   \n",
      "682            0.482978           0.009268             0.228388   \n",
      "683            0.482975           0.009302             0.228141   \n",
      "684            0.482961           0.009317             0.227903   \n",
      "685            0.482961           0.009312             0.227692   \n",
      "686            0.482918           0.009328             0.227449   \n",
      "687            0.482975           0.009264             0.227226   \n",
      "688            0.482989           0.009200             0.226973   \n",
      "689            0.482997           0.009204             0.226776   \n",
      "690            0.483010           0.009251             0.226551   \n",
      "691            0.482959           0.009252             0.226310   \n",
      "692            0.482913           0.009208             0.226112   \n",
      "693            0.482833           0.009210             0.225871   \n",
      "694            0.482826           0.009227             0.225660   \n",
      "695            0.482782           0.009218             0.225452   \n",
      "696            0.482773           0.009163             0.225260   \n",
      "697            0.482797           0.009205             0.225083   \n",
      "698            0.482744           0.009202             0.224840   \n",
      "\n",
      "     train-mlogloss-std  \n",
      "0              0.007064  \n",
      "1              0.008177  \n",
      "2              0.011528  \n",
      "3              0.008627  \n",
      "4              0.005713  \n",
      "5              0.005078  \n",
      "6              0.002491  \n",
      "7              0.000463  \n",
      "8              0.002068  \n",
      "9              0.003520  \n",
      "10             0.001354  \n",
      "11             0.000862  \n",
      "12             0.002233  \n",
      "13             0.001791  \n",
      "14             0.001738  \n",
      "15             0.001819  \n",
      "16             0.001884  \n",
      "17             0.001974  \n",
      "18             0.001437  \n",
      "19             0.002689  \n",
      "20             0.002579  \n",
      "21             0.002713  \n",
      "22             0.002680  \n",
      "23             0.002808  \n",
      "24             0.003022  \n",
      "25             0.003136  \n",
      "26             0.003237  \n",
      "27             0.003706  \n",
      "28             0.004229  \n",
      "29             0.003972  \n",
      "..                  ...  \n",
      "669            0.002167  \n",
      "670            0.002149  \n",
      "671            0.002157  \n",
      "672            0.002148  \n",
      "673            0.002123  \n",
      "674            0.002091  \n",
      "675            0.002065  \n",
      "676            0.002060  \n",
      "677            0.002059  \n",
      "678            0.002046  \n",
      "679            0.002027  \n",
      "680            0.002019  \n",
      "681            0.002017  \n",
      "682            0.002043  \n",
      "683            0.002013  \n",
      "684            0.002002  \n",
      "685            0.002011  \n",
      "686            0.002047  \n",
      "687            0.002077  \n",
      "688            0.002102  \n",
      "689            0.002099  \n",
      "690            0.002063  \n",
      "691            0.002074  \n",
      "692            0.002097  \n",
      "693            0.002062  \n",
      "694            0.002065  \n",
      "695            0.002050  \n",
      "696            0.002041  \n",
      "697            0.002015  \n",
      "698            0.002029  \n",
      "\n",
      "[699 rows x 4 columns]\n",
      "logloss of train :\n",
      "0.262170112249\n"
     ]
    },
    {
     "data": {
      "image/png": "[encoded data removed]",
      "text/plain": [
       "<matplotlib.figure.Figure at 0x10ddfe8d0>"
      ]
     },
     "metadata": {},
     "output_type": "display_data"
    }
   ],
   "source": [
    "#params = {\"objective\": \"multi:softprob\", \"eval_metric\":\"mlogloss\", \"num_class\": 9}\n",
    "\n",
    "xgb1 = XGBClassifier(\n",
    "        learning_rate =0.1,\n",
    "        n_estimators=1000,  #数值大没关系，cv会自动返回合适的n_estimators\n",
    "        max_depth=5,\n",
    "        min_child_weight=1,\n",
    "        gamma=0,\n",
    "        subsample=0.3,\n",
    "        colsample_bytree=0.8,\n",
    "        colsample_bylevel=0.7,\n",
    "        objective= 'multi:softprob',\n",
    "        seed=3)\n",
    "\n",
    "\n",
    "modelfit(xgb1, X_train, y_train, cv_folds = kfold)"
   ]
  },
  {
   "cell_type": "code",
   "execution_count": 8,
   "metadata": {
    "collapsed": false
   },
   "outputs": [
    {
     "data": {
      "image/png": "[encoded data removed]",
      "text/plain": [
       "<matplotlib.figure.Figure at 0x10e2fd290>"
      ]
     },
     "metadata": {},
     "output_type": "display_data"
    }
   ],
   "source": [
    "cvresult = pd.DataFrame.from_csv('my_preds_4_1.csv')\n",
    "        \n",
    "# plot\n",
    "test_means = cvresult['test-mlogloss-mean']\n",
    "test_stds = cvresult['test-mlogloss-std'] \n",
    "        \n",
    "train_means = cvresult['train-mlogloss-mean']\n",
    "train_stds = cvresult['train-mlogloss-std'] \n",
    "\n",
    "x_axis = range(0, cvresult.shape[0])\n",
    "        \n",
    "pyplot.errorbar(x_axis, test_means, yerr=test_stds ,label='Test')\n",
    "pyplot.errorbar(x_axis, train_means, yerr=train_stds ,label='Train')\n",
    "pyplot.title(\"XGBoost n_estimators vs Log Loss\")\n",
    "pyplot.xlabel( 'n_estimators' )\n",
    "pyplot.ylabel( 'Log Loss' )\n",
    "pyplot.savefig( 'n_estimators4_1.png' )\n",
    "\n",
    "pyplot.show()"
   ]
  },
  {
   "cell_type": "code",
   "execution_count": 9,
   "metadata": {
    "collapsed": false
   },
   "outputs": [
    {
     "data": {
      "image/png": "[encoded data removed]",
      "text/plain": [
       "<matplotlib.figure.Figure at 0x103641690>"
      ]
     },
     "metadata": {},
     "output_type": "display_data"
    }
   ],
   "source": [
    "cvresult = pd.DataFrame.from_csv('my_preds_4_1.csv')\n",
    "\n",
    "cvresult = cvresult.iloc[100:]\n",
    "# plot\n",
    "test_means = cvresult['test-mlogloss-mean']\n",
    "test_stds = cvresult['test-mlogloss-std'] \n",
    "        \n",
    "train_means = cvresult['train-mlogloss-mean']\n",
    "train_stds = cvresult['train-mlogloss-std'] \n",
    "\n",
    "x_axis = range(100,cvresult.shape[0]+100)\n",
    "        \n",
    "fig = pyplot.figure(figsize=(10, 10), dpi=100)\n",
    "pyplot.errorbar(x_axis, test_means, yerr=test_stds ,label='Test')\n",
    "pyplot.errorbar(x_axis, train_means, yerr=train_stds ,label='Train')\n",
    "pyplot.title(\"XGBoost n_estimators vs Log Loss\")\n",
    "pyplot.xlabel( 'n_estimators' )\n",
    "pyplot.ylabel( 'Log Loss' )\n",
    "pyplot.savefig( 'n_estimators_detail.png' )\n",
    "\n",
    "pyplot.show()"
   ]
  }
 ],
 "metadata": {
  "kernelspec": {
   "display_name": "Python 2",
   "language": "python",
   "name": "python2"
  },
  "language_info": {
   "codemirror_mode": {
    "name": "ipython",
    "version": 2
   },
   "file_extension": ".py",
   "mimetype": "text/x-python",
   "name": "python",
   "nbconvert_exporter": "python",
   "pygments_lexer": "ipython2",
   "version": "2.7.13"
  }
 },
 "nbformat": 4,
 "nbformat_minor": 2
}

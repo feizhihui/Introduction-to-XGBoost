{
 "cells": [
  {
   "cell_type": "markdown",
   "metadata": {},
   "source": [
    "# XGBoost Parameter Tuning for Otto Dataset"
   ]
  },
  {
   "cell_type": "markdown",
   "metadata": {},
   "source": [
    "我们以Kaggle 2015年举办的Otto Group Product Classification Challenge竞赛数据为例，进行XGBoost参数调优探索。\n",
    "\n",
    "竞赛官网：https://www.kaggle.com/c/otto-group-product-classification-challenge/data"
   ]
  },
  {
   "cell_type": "markdown",
   "metadata": {},
   "source": [
    "首先 import 必要的模块"
   ]
  },
  {
   "cell_type": "code",
   "execution_count": 17,
   "metadata": {
    "collapsed": true
   },
   "outputs": [],
   "source": [
    "from xgboost import XGBClassifier\n",
    "import xgboost as xgb\n",
    "\n",
    "import pandas as pd \n",
    "import numpy as np\n",
    "\n",
    "from sklearn.model_selection import GridSearchCV\n",
    "from sklearn.model_selection import StratifiedKFold\n",
    "\n",
    "from sklearn.metrics import log_loss\n",
    "\n",
    "from matplotlib import pyplot\n",
    "import seaborn as sns\n",
    "%matplotlib inline"
   ]
  },
  {
   "cell_type": "markdown",
   "metadata": {},
   "source": [
    "## 读取数据"
   ]
  },
  {
   "cell_type": "code",
   "execution_count": 18,
   "metadata": {
    "collapsed": false,
    "scrolled": true
   },
   "outputs": [],
   "source": [
    "# path to where the data lies\n",
    "#dpath = '/Users/qing/desktop/XGBoost/data/'\n",
    "dpath = './data/'\n",
    "train = pd.read_csv(dpath +\"Otto_train.csv\")\n",
    "#train.head()"
   ]
  },
  {
   "cell_type": "markdown",
   "metadata": {},
   "source": [
    "## Variable Identification"
   ]
  },
  {
   "cell_type": "markdown",
   "metadata": {},
   "source": [
    "选择该数据集是因为的数据特征单一，我们可以在特征工程方面少做些工作，集中精力放在参数调优上"
   ]
  },
  {
   "cell_type": "markdown",
   "metadata": {},
   "source": [
    "## Target 分布，看看各类样本分布是否均衡"
   ]
  },
  {
   "cell_type": "code",
   "execution_count": 19,
   "metadata": {
    "collapsed": false,
    "scrolled": false
   },
   "outputs": [
    {
     "data": {
      "image/png": "[encoded data removed]",
      "text/plain": [
       "<matplotlib.figure.Figure at 0x109c6cd50>"
      ]
     },
     "metadata": {},
     "output_type": "display_data"
    }
   ],
   "source": [
    "sns.countplot(train.target);\n",
    "pyplot.xlabel('target');\n",
    "pyplot.ylabel('Number of occurrences');"
   ]
  },
  {
   "cell_type": "markdown",
   "metadata": {},
   "source": [
    "每类样本分布不是很均匀，所以交叉验证时也考虑各类样本按比例抽取"
   ]
  },
  {
   "cell_type": "code",
   "execution_count": 20,
   "metadata": {
    "collapsed": false
   },
   "outputs": [],
   "source": [
    "# drop ids and get labels\n",
    "y_train = train['target']\n",
    "y_train = y_train.map(lambda s: s[6:])\n",
    "y_train = y_train.map(lambda s: int(s)-1)\n",
    "\n",
    "train = train.drop([\"id\", \"target\"], axis=1)\n",
    "X_train = np.array(train)"
   ]
  },
  {
   "cell_type": "markdown",
   "metadata": {},
   "source": [
    "各类样本不均衡，交叉验证是采用StratifiedKFold，在每折采样时各类样本按比例采样"
   ]
  },
  {
   "cell_type": "code",
   "execution_count": 21,
   "metadata": {
    "collapsed": true
   },
   "outputs": [],
   "source": [
    "# prepare cross validation\n",
    "kfold = StratifiedKFold(n_splits=5, shuffle=True, random_state=3)"
   ]
  },
  {
   "cell_type": "markdown",
   "metadata": {},
   "source": [
    "再次调整弱分类器数目"
   ]
  },
  {
   "cell_type": "code",
   "execution_count": 22,
   "metadata": {
    "collapsed": false
   },
   "outputs": [],
   "source": [
    "def modelfit(alg, X_train, y_train, useTrainCV=True, cv_folds=None, early_stopping_rounds=50):\n",
    "    \n",
    "    if useTrainCV:\n",
    "        xgb_param = alg.get_xgb_params()\n",
    "        xgb_param['num_class'] = 9\n",
    "        \n",
    "        xgtrain = xgb.DMatrix(X_train, label = y_train)\n",
    "        \n",
    "        cvresult = xgb.cv(xgb_param, xgtrain, num_boost_round=alg.get_params()['n_estimators'], folds =cv_folds,\n",
    "                         metrics='mlogloss', early_stopping_rounds=early_stopping_rounds)\n",
    "        \n",
    "        n_estimators = cvresult.shape[0]\n",
    "        alg.set_params(n_estimators = n_estimators)\n",
    "        \n",
    "        print cvresult\n",
    "        #result = pd.DataFrame(cvresult)   #cv缺省返回结果为DataFrame\n",
    "        #result.to_csv('my_preds.csv', index_label = 'n_estimators')\n",
    "        cvresult.to_csv('my_preds4_6.csv', index_label = 'n_estimators')\n",
    "        \n",
    "        # plot\n",
    "        test_means = cvresult['test-mlogloss-mean']\n",
    "        test_stds = cvresult['test-mlogloss-std'] \n",
    "        \n",
    "        train_means = cvresult['train-mlogloss-mean']\n",
    "        train_stds = cvresult['train-mlogloss-std'] \n",
    "\n",
    "        x_axis = range(0, n_estimators)\n",
    "        pyplot.errorbar(x_axis, test_means, yerr=test_stds ,label='Test')\n",
    "        pyplot.errorbar(x_axis, train_means, yerr=train_stds ,label='Train')\n",
    "        pyplot.title(\"XGBoost n_estimators vs Log Loss\")\n",
    "        pyplot.xlabel( 'n_estimators' )\n",
    "        pyplot.ylabel( 'Log Loss' )\n",
    "        pyplot.savefig( 'n_estimators4_6.png' )\n",
    "    \n",
    "    #Fit the algorithm on the data\n",
    "    alg.fit(X_train, y_train, eval_metric='mlogloss')\n",
    "        \n",
    "    #Predict training set:\n",
    "    train_predprob = alg.predict_proba(X_train)\n",
    "    logloss = log_loss(y_train, train_predprob)\n",
    "\n",
    "        \n",
    "    #Print model report:\n",
    "    print (\"logloss of train :\" )\n",
    "    print logloss"
   ]
  },
  {
   "cell_type": "code",
   "execution_count": 23,
   "metadata": {
    "collapsed": false,
    "scrolled": true
   },
   "outputs": [
    {
     "name": "stdout",
     "output_type": "stream",
     "text": [
      "     test-mlogloss-mean  test-mlogloss-std  train-mlogloss-mean  \\\n",
      "0              2.004783           0.004477             2.001985   \n",
      "1              1.860338           0.004771             1.855174   \n",
      "2              1.734371           0.002183             1.726841   \n",
      "3              1.628692           0.001923             1.618955   \n",
      "4              1.539755           0.007672             1.528270   \n",
      "5              1.464715           0.005155             1.451697   \n",
      "6              1.397838           0.006976             1.383486   \n",
      "7              1.334838           0.007542             1.319172   \n",
      "8              1.281549           0.007707             1.264556   \n",
      "9              1.233778           0.006834             1.215659   \n",
      "10             1.190771           0.005677             1.171348   \n",
      "11             1.150221           0.004272             1.129909   \n",
      "12             1.113279           0.003646             1.091713   \n",
      "13             1.078643           0.002561             1.055937   \n",
      "14             1.048313           0.002477             1.024575   \n",
      "15             1.020334           0.001648             0.995717   \n",
      "16             0.994808           0.002771             0.968975   \n",
      "17             0.971261           0.002458             0.944318   \n",
      "18             0.948679           0.001646             0.920830   \n",
      "19             0.928179           0.001180             0.899454   \n",
      "20             0.908669           0.001235             0.879106   \n",
      "21             0.889679           0.001511             0.859150   \n",
      "22             0.872630           0.000811             0.841142   \n",
      "23             0.855608           0.000504             0.823275   \n",
      "24             0.840465           0.001738             0.807306   \n",
      "25             0.826694           0.001795             0.792606   \n",
      "26             0.813485           0.002481             0.778384   \n",
      "27             0.800618           0.002632             0.764608   \n",
      "28             0.789705           0.003298             0.752890   \n",
      "29             0.778987           0.003820             0.741346   \n",
      "..                  ...                ...                  ...   \n",
      "640            0.469545           0.008027             0.208542   \n",
      "641            0.469498           0.008016             0.208284   \n",
      "642            0.469506           0.008016             0.208099   \n",
      "643            0.469541           0.007994             0.207854   \n",
      "644            0.469539           0.007993             0.207634   \n",
      "645            0.469563           0.008028             0.207414   \n",
      "646            0.469584           0.008031             0.207212   \n",
      "647            0.469566           0.008027             0.206995   \n",
      "648            0.469556           0.008037             0.206760   \n",
      "649            0.469547           0.008034             0.206516   \n",
      "650            0.469549           0.008052             0.206289   \n",
      "651            0.469524           0.008061             0.206079   \n",
      "652            0.469496           0.008049             0.205866   \n",
      "653            0.469507           0.008089             0.205627   \n",
      "654            0.469524           0.008097             0.205411   \n",
      "655            0.469524           0.008073             0.205180   \n",
      "656            0.469547           0.008064             0.204926   \n",
      "657            0.469514           0.008103             0.204704   \n",
      "658            0.469512           0.008070             0.204480   \n",
      "659            0.469478           0.008077             0.204295   \n",
      "660            0.469476           0.008086             0.204065   \n",
      "661            0.469498           0.008079             0.203869   \n",
      "662            0.469503           0.008071             0.203674   \n",
      "663            0.469494           0.008072             0.203451   \n",
      "664            0.469466           0.008053             0.203277   \n",
      "665            0.469471           0.008021             0.203094   \n",
      "666            0.469464           0.008028             0.202882   \n",
      "667            0.469478           0.008020             0.202667   \n",
      "668            0.469466           0.008012             0.202460   \n",
      "669            0.469456           0.008000             0.202260   \n",
      "\n",
      "     train-mlogloss-std  \n",
      "0              0.003454  \n",
      "1              0.003708  \n",
      "2              0.002949  \n",
      "3              0.004095  \n",
      "4              0.009773  \n",
      "5              0.006362  \n",
      "6              0.007995  \n",
      "7              0.009109  \n",
      "8              0.009268  \n",
      "9              0.008839  \n",
      "10             0.007357  \n",
      "11             0.006342  \n",
      "12             0.006327  \n",
      "13             0.005940  \n",
      "14             0.006084  \n",
      "15             0.005362  \n",
      "16             0.005925  \n",
      "17             0.005702  \n",
      "18             0.005452  \n",
      "19             0.005900  \n",
      "20             0.005365  \n",
      "21             0.006168  \n",
      "22             0.004925  \n",
      "23             0.004544  \n",
      "24             0.003727  \n",
      "25             0.003510  \n",
      "26             0.002683  \n",
      "27             0.002641  \n",
      "28             0.002149  \n",
      "29             0.001621  \n",
      "..                  ...  \n",
      "640            0.002281  \n",
      "641            0.002300  \n",
      "642            0.002283  \n",
      "643            0.002248  \n",
      "644            0.002239  \n",
      "645            0.002223  \n",
      "646            0.002214  \n",
      "647            0.002197  \n",
      "648            0.002226  \n",
      "649            0.002227  \n",
      "650            0.002198  \n",
      "651            0.002178  \n",
      "652            0.002164  \n",
      "653            0.002182  \n",
      "654            0.002191  \n",
      "655            0.002207  \n",
      "656            0.002210  \n",
      "657            0.002209  \n",
      "658            0.002223  \n",
      "659            0.002225  \n",
      "660            0.002233  \n",
      "661            0.002226  \n",
      "662            0.002219  \n",
      "663            0.002226  \n",
      "664            0.002221  \n",
      "665            0.002228  \n",
      "666            0.002237  \n",
      "667            0.002259  \n",
      "668            0.002246  \n",
      "669            0.002232  \n",
      "\n",
      "[670 rows x 4 columns]\n",
      "logloss of train :\n",
      "0.234479973005\n"
     ]
    },
    {
     "data": {
      "image/png": "[encoded data removed]",
      "text/plain": [
       "<matplotlib.figure.Figure at 0x10f4968d0>"
      ]
     },
     "metadata": {},
     "output_type": "display_data"
    }
   ],
   "source": [
    "xgb6 = XGBClassifier(\n",
    "        learning_rate =0.1,\n",
    "        n_estimators=1000,  #数值大没关系，cv会自动返回合适的n_estimators\n",
    "        max_depth=6,\n",
    "        min_child_weight=4,\n",
    "        gamma=0,\n",
    "        subsample=0.7,\n",
    "        colsample_bytree=0.6,\n",
    "        colsample_bylevel=0.7,\n",
    "        reg_alpha = 1,\n",
    "        reg_lambda = 0.5,\n",
    "        objective= 'multi:softprob',\n",
    "        seed=3)\n",
    "\n",
    "modelfit(xgb6, X_train, y_train, cv_folds = kfold)"
   ]
  },
  {
   "cell_type": "code",
   "execution_count": 24,
   "metadata": {
    "collapsed": false
   },
   "outputs": [
    {
     "data": {
      "image/png": "[encoded data removed]",
      "text/plain": [
       "<matplotlib.figure.Figure at 0x10d94f110>"
      ]
     },
     "metadata": {},
     "output_type": "display_data"
    }
   ],
   "source": [
    "cvresult = pd.DataFrame.from_csv('my_preds4_6.csv')\n",
    "\n",
    "cvresult = cvresult.iloc[100:]\n",
    "# plot\n",
    "test_means = cvresult['test-mlogloss-mean']\n",
    "test_stds = cvresult['test-mlogloss-std'] \n",
    "        \n",
    "train_means = cvresult['train-mlogloss-mean']\n",
    "train_stds = cvresult['train-mlogloss-std'] \n",
    "\n",
    "x_axis = range(100,cvresult.shape[0]+100)\n",
    "        \n",
    "fig = pyplot.figure(figsize=(10, 10), dpi=100)\n",
    "pyplot.errorbar(x_axis, test_means, yerr=test_stds ,label='Test')\n",
    "pyplot.errorbar(x_axis, train_means, yerr=train_stds ,label='Train')\n",
    "pyplot.title(\"XGBoost n_estimators vs Log Loss\")\n",
    "pyplot.xlabel( 'n_estimators' )\n",
    "pyplot.ylabel( 'Log Loss' )\n",
    "pyplot.savefig( 'n_estimators_detail4_6.png' )\n",
    "\n",
    "pyplot.show()"
   ]
  }
 ],
 "metadata": {
  "kernelspec": {
   "display_name": "Python 2",
   "language": "python",
   "name": "python2"
  },
  "language_info": {
   "codemirror_mode": {
    "name": "ipython",
    "version": 2
   },
   "file_extension": ".py",
   "mimetype": "text/x-python",
   "name": "python",
   "nbconvert_exporter": "python",
   "pygments_lexer": "ipython2",
   "version": "2.7.13"
  }
 },
 "nbformat": 4,
 "nbformat_minor": 2
}
